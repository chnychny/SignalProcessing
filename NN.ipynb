{
 "cells": [
  {
   "cell_type": "markdown",
   "metadata": {
    "colab_type": "text",
    "id": "wCdWj_Ww36Bq"
   },
   "source": [
    "# Implementation of baseline for DANN\n",
    "Reference: https://arxiv.org/pdf/1505.07818.pdf"
   ]
  },
  {
   "cell_type": "code",
   "execution_count": 1,
   "metadata": {
    "colab": {},
    "colab_type": "code",
    "collapsed": true,
    "id": "55U-5Nwk36Bw"
   },
   "outputs": [],
   "source": [
    "import torch\n",
    "import torchvision\n",
    "import torch.nn as nn"
   ]
  },
  {
   "cell_type": "code",
   "execution_count": 2,
   "metadata": {
    "colab": {
     "base_uri": "https://localhost:8080/",
     "height": 35
    },
    "colab_type": "code",
    "id": "O5SHeDH24HnX",
    "outputId": "18ece497-0d25-4b69-e041-d280ca5ddc8e"
   },
   "outputs": [
    {
     "data": {
      "text/plain": [
       "'1.0.0'"
      ]
     },
     "execution_count": 2,
     "metadata": {},
     "output_type": "execute_result"
    }
   ],
   "source": [
    "torch.__version__"
   ]
  },
  {
   "cell_type": "code",
   "execution_count": 3,
   "metadata": {
    "colab": {},
    "colab_type": "code",
    "collapsed": true,
    "id": "cGHr9W5o36Bz"
   },
   "outputs": [],
   "source": [
    "from torch.utils.data import DataLoader\n",
    "from torchvision import datasets\n",
    "from torchvision import transforms"
   ]
  },
  {
   "cell_type": "code",
   "execution_count": 4,
   "metadata": {
    "colab": {},
    "colab_type": "code",
    "collapsed": true,
    "id": "3S7AK3Pa36B1"
   },
   "outputs": [],
   "source": [
    "import numpy as np\n",
    "import datetime\n",
    "import os, sys"
   ]
  },
  {
   "cell_type": "code",
   "execution_count": 5,
   "metadata": {
    "colab": {},
    "colab_type": "code",
    "collapsed": true,
    "id": "iTNg8OmY36B4"
   },
   "outputs": [],
   "source": [
    "from matplotlib.pyplot import imshow, imsave\n",
    "%matplotlib inline"
   ]
  },
  {
   "cell_type": "code",
   "execution_count": 6,
   "metadata": {
    "collapsed": true
   },
   "outputs": [],
   "source": [
    "os.environ[\"CUDA_DEVICE_ORDER\"] = \"PCI_BUS_ID\"\n",
    "os.environ[\"CUDA_VISIBLE_DEVICES\"] = \"{}\".format(1)"
   ]
  },
  {
   "cell_type": "code",
   "execution_count": 8,
   "metadata": {
    "colab": {},
    "colab_type": "code",
    "collapsed": true,
    "id": "d_hVsBuF36B7"
   },
   "outputs": [],
   "source": [
    "MODEL_NAME = 'NN'\n",
    "DEVICE = torch.device(\"cuda\" if torch.cuda.is_available() else \"cpu\")"
   ]
  },
  {
   "cell_type": "code",
   "execution_count": 9,
   "metadata": {
    "colab": {},
    "colab_type": "code",
    "collapsed": true,
    "id": "9OcpKYmx36CH"
   },
   "outputs": [],
   "source": [
    "class FeatureExtractor(nn.Module):\n",
    "    \"\"\"\n",
    "        Feature Extractor\n",
    "    \"\"\"\n",
    "    def __init__(self, in_channel=1, hidden_dims=512):\n",
    "        super(FeatureExtractor, self).__init__()\n",
    "        self.conv = nn.Sequential(\n",
    "            nn.Conv2d(in_channel, 64, 3, padding=1),\n",
    "            nn.BatchNorm2d(64),\n",
    "            nn.ReLU(inplace=True),\n",
    "            nn.Conv2d(64, 128, 3, padding=1),\n",
    "            nn.BatchNorm2d(128),\n",
    "            nn.ReLU(inplace=True),\n",
    "            nn.Conv2d(128, 256, 3, padding=1),\n",
    "            nn.BatchNorm2d(256),\n",
    "            nn.ReLU(inplace=True),\n",
    "            nn.Conv2d(256, 256, 3, padding=1),\n",
    "            nn.BatchNorm2d(256),\n",
    "            nn.ReLU(inplace=True),\n",
    "            nn.Conv2d(256, hidden_dims, 3, padding=1),\n",
    "            nn.BatchNorm2d(hidden_dims),\n",
    "            nn.ReLU(inplace=True),\n",
    "            nn.AdaptiveAvgPool2d((1,1)),\n",
    "        )\n",
    "        \n",
    "    def forward(self, x):\n",
    "        h = self.conv(x).squeeze() # (N, hidden_dims)\n",
    "        return h"
   ]
  },
  {
   "cell_type": "code",
   "execution_count": 10,
   "metadata": {
    "colab": {},
    "colab_type": "code",
    "collapsed": true,
    "id": "c-1JVlFr95C8"
   },
   "outputs": [],
   "source": [
    "class Classifier(nn.Module):\n",
    "    \"\"\"\n",
    "        Classifier\n",
    "    \"\"\"\n",
    "    def __init__(self, input_size=512, num_classes=10):\n",
    "        super(Classifier, self).__init__()\n",
    "        self.layer = nn.Sequential(\n",
    "            nn.Linear(input_size, 256),\n",
    "            nn.ReLU(inplace=True),\n",
    "            nn.Linear(256, num_classes),\n",
    "        )\n",
    "        \n",
    "    def forward(self, h):\n",
    "        c = self.layer(h)\n",
    "        return c"
   ]
  },
  {
   "cell_type": "code",
   "execution_count": 14,
   "metadata": {
    "colab": {},
    "colab_type": "code",
    "collapsed": true,
    "id": "rmaidaPO36CQ"
   },
   "outputs": [],
   "source": [
    "F = FeatureExtractor().to(DEVICE)\n",
    "C = Classifier().to(DEVICE)"
   ]
  },
  {
   "cell_type": "code",
   "execution_count": 15,
   "metadata": {
    "colab": {},
    "colab_type": "code",
    "collapsed": true,
    "id": "-zhMZpPc36CT"
   },
   "outputs": [],
   "source": [
    "transform = transforms.Compose([\n",
    "    transforms.Grayscale(1),\n",
    "    transforms.Resize(28),\n",
    "    transforms.ToTensor(),\n",
    "    transforms.Normalize(mean=[0.5],\n",
    "                         std=[0.5])\n",
    "])"
   ]
  },
  {
   "cell_type": "code",
   "execution_count": 16,
   "metadata": {
    "colab": {},
    "colab_type": "code",
    "collapsed": true,
    "id": "dctQjVmy36CX"
   },
   "outputs": [],
   "source": [
    "mnist_train = datasets.MNIST(root='../data/', train=True, transform=transform, download=True)\n",
    "mnist_test = datasets.MNIST(root='../data/', train=False, transform=transform, download=True)"
   ]
  },
  {
   "cell_type": "code",
   "execution_count": 17,
   "metadata": {
    "colab": {
     "base_uri": "https://localhost:8080/",
     "height": 53
    },
    "colab_type": "code",
    "id": "0GRgUyko4Yf8",
    "outputId": "8d5d6e2f-8a02-431f-80ef-f1f1583bc5b6"
   },
   "outputs": [
    {
     "name": "stdout",
     "output_type": "stream",
     "text": [
      "Using downloaded and verified file: ../data/train_32x32.mat\n",
      "Using downloaded and verified file: ../data/test_32x32.mat\n"
     ]
    }
   ],
   "source": [
    "svhn_train = datasets.SVHN(root='../data/', split='train', transform=transform, download=True)\n",
    "svhn_test = datasets.SVHN(root='../data/', split='test', transform=transform, download=True)"
   ]
  },
  {
   "cell_type": "code",
   "execution_count": 18,
   "metadata": {
    "colab": {},
    "colab_type": "code",
    "collapsed": true,
    "id": "k-yZsYK_36Ca"
   },
   "outputs": [],
   "source": [
    "batch_size = 64"
   ]
  },
  {
   "cell_type": "code",
   "execution_count": 19,
   "metadata": {
    "colab": {
     "base_uri": "https://localhost:8080/",
     "height": 35
    },
    "colab_type": "code",
    "id": "Nf_BypcP62yb",
    "outputId": "840bf031-34c1-4e69-859d-1665f4a7b86e"
   },
   "outputs": [
    {
     "data": {
      "text/plain": [
       "(73257, 3, 32, 32)"
      ]
     },
     "execution_count": 19,
     "metadata": {},
     "output_type": "execute_result"
    }
   ],
   "source": [
    "svhn_train.data.shape"
   ]
  },
  {
   "cell_type": "code",
   "execution_count": 20,
   "metadata": {
    "colab": {},
    "colab_type": "code",
    "collapsed": true,
    "id": "bNGJwRYq36Cc"
   },
   "outputs": [],
   "source": [
    "svhn_loader = DataLoader(dataset=svhn_train, batch_size=batch_size, shuffle=True, drop_last=True)\n",
    "mnist_loader = DataLoader(dataset=mnist_train, batch_size=batch_size, shuffle=True, drop_last=True)\n",
    "eval_loader = DataLoader(dataset=svhn_test, batch_size=batch_size, shuffle=False, drop_last=False)\n",
    "test_loader = DataLoader(dataset=mnist_test, batch_size=batch_size, shuffle=False, drop_last=False)"
   ]
  },
  {
   "cell_type": "code",
   "execution_count": 21,
   "metadata": {
    "colab": {},
    "colab_type": "code",
    "collapsed": true,
    "id": "-BvTO5_CCoRj"
   },
   "outputs": [],
   "source": [
    "xe = nn.CrossEntropyLoss()"
   ]
  },
  {
   "cell_type": "code",
   "execution_count": 22,
   "metadata": {
    "colab": {},
    "colab_type": "code",
    "collapsed": true,
    "id": "dx-hu7Kx36Ch"
   },
   "outputs": [],
   "source": [
    "F_opt = torch.optim.Adam(F.parameters())\n",
    "C_opt = torch.optim.Adam(C.parameters())"
   ]
  },
  {
   "cell_type": "code",
   "execution_count": 23,
   "metadata": {
    "colab": {},
    "colab_type": "code",
    "collapsed": true,
    "id": "UZ4BHnuu36Co"
   },
   "outputs": [],
   "source": [
    "max_epoch = 50\n",
    "step = 0\n",
    "n_critic = 1 # for training more k steps about Discriminator\n",
    "n_batches = len(mnist_train)//batch_size\n",
    "# lamda = 0.01"
   ]
  },
  {
   "cell_type": "markdown",
   "metadata": {
    "colab_type": "text",
    "id": "uiCXVKq236Cz"
   },
   "source": [
    "### Training Code\n",
    "\n"
   ]
  },
  {
   "cell_type": "code",
   "execution_count": 26,
   "metadata": {
    "colab": {},
    "colab_type": "code",
    "collapsed": true,
    "id": "KrX9TTe8BLLP"
   },
   "outputs": [],
   "source": [
    "mnist_set = iter(mnist_loader)\n",
    "\n",
    "def sample_mnist(step, n_batches):\n",
    "    global mnist_set\n",
    "    if step % n_batches == 0:\n",
    "        mnist_set = iter(mnist_loader)\n",
    "    return mnist_set.next()"
   ]
  },
  {
   "cell_type": "code",
   "execution_count": 28,
   "metadata": {
    "collapsed": true
   },
   "outputs": [],
   "source": [
    "ll_c = []\n",
    "acc_lst = []"
   ]
  },
  {
   "cell_type": "code",
   "execution_count": 29,
   "metadata": {
    "colab": {
     "base_uri": "https://localhost:8080/",
     "height": 1000
    },
    "colab_type": "code",
    "id": "Q_htVI_VFwJ3",
    "outputId": "d571460c-dff5-46c6-dffa-fbd7396aba16",
    "scrolled": true
   },
   "outputs": [
    {
     "name": "stdout",
     "output_type": "stream",
     "text": [
      "Epoch: 1/50, Step: 0, C Loss: 2.3101 ---- 05:08:53\n",
      "***** Eval Result: 0.0759, Step: 0\n",
      "***** Test Result: 0.0958, Step: 0\n",
      "Epoch: 1/50, Step: 100, C Loss: 2.1153 ---- 05:09:10\n",
      "Epoch: 1/50, Step: 200, C Loss: 1.9948 ---- 05:09:16\n",
      "Epoch: 1/50, Step: 300, C Loss: 1.9285 ---- 05:09:22\n",
      "Epoch: 1/50, Step: 400, C Loss: 1.6654 ---- 05:09:28\n",
      "Epoch: 1/50, Step: 500, C Loss: 1.8997 ---- 05:09:34\n",
      "***** Eval Result: 0.3834, Step: 500\n",
      "***** Test Result: 0.2259, Step: 500\n",
      "Epoch: 1/50, Step: 600, C Loss: 1.5960 ---- 05:09:51\n",
      "Epoch: 1/50, Step: 700, C Loss: 1.6066 ---- 05:09:57\n",
      "Epoch: 1/50, Step: 800, C Loss: 1.2442 ---- 05:10:03\n",
      "Epoch: 1/50, Step: 900, C Loss: 1.4055 ---- 05:10:10\n",
      "Epoch: 1/50, Step: 1000, C Loss: 1.1821 ---- 05:10:16\n",
      "***** Eval Result: 0.5699, Step: 1000\n",
      "***** Test Result: 0.2789, Step: 1000\n",
      "Epoch: 1/50, Step: 1100, C Loss: 1.2983 ---- 05:10:34\n",
      "Epoch: 2/50, Step: 1200, C Loss: 0.9590 ---- 05:10:40\n",
      "Epoch: 2/50, Step: 1300, C Loss: 0.8810 ---- 05:10:46\n",
      "Epoch: 2/50, Step: 1400, C Loss: 0.7639 ---- 05:10:53\n",
      "Epoch: 2/50, Step: 1500, C Loss: 0.8699 ---- 05:10:59\n",
      "***** Eval Result: 0.6916, Step: 1500\n",
      "***** Test Result: 0.3601, Step: 1500\n",
      "Epoch: 2/50, Step: 1600, C Loss: 0.6450 ---- 05:11:17\n",
      "Epoch: 2/50, Step: 1700, C Loss: 0.7307 ---- 05:11:23\n",
      "Epoch: 2/50, Step: 1800, C Loss: 0.7665 ---- 05:11:29\n",
      "Epoch: 2/50, Step: 1900, C Loss: 0.8508 ---- 05:11:36\n",
      "Epoch: 2/50, Step: 2000, C Loss: 0.5347 ---- 05:11:42\n",
      "***** Eval Result: 0.7794, Step: 2000\n",
      "***** Test Result: 0.4373, Step: 2000\n",
      "Epoch: 2/50, Step: 2100, C Loss: 0.4717 ---- 05:12:00\n",
      "Epoch: 2/50, Step: 2200, C Loss: 0.6236 ---- 05:12:06\n",
      "Epoch: 3/50, Step: 2300, C Loss: 0.7120 ---- 05:12:13\n",
      "Epoch: 3/50, Step: 2400, C Loss: 0.5704 ---- 05:12:19\n",
      "Epoch: 3/50, Step: 2500, C Loss: 0.3494 ---- 05:12:25\n",
      "***** Eval Result: 0.8203, Step: 2500\n",
      "***** Test Result: 0.3740, Step: 2500\n",
      "Epoch: 3/50, Step: 2600, C Loss: 0.4971 ---- 05:12:43\n",
      "Epoch: 3/50, Step: 2700, C Loss: 0.5572 ---- 05:12:50\n",
      "Epoch: 3/50, Step: 2800, C Loss: 0.4639 ---- 05:12:56\n",
      "Epoch: 3/50, Step: 2900, C Loss: 0.4915 ---- 05:13:02\n",
      "Epoch: 3/50, Step: 3000, C Loss: 0.9108 ---- 05:13:09\n",
      "***** Eval Result: 0.8416, Step: 3000\n",
      "***** Test Result: 0.3577, Step: 3000\n",
      "Epoch: 3/50, Step: 3100, C Loss: 0.2872 ---- 05:13:27\n",
      "Epoch: 3/50, Step: 3200, C Loss: 0.4752 ---- 05:13:33\n",
      "Epoch: 3/50, Step: 3300, C Loss: 0.6527 ---- 05:13:39\n",
      "Epoch: 3/50, Step: 3400, C Loss: 0.4394 ---- 05:13:46\n",
      "Epoch: 4/50, Step: 3500, C Loss: 0.3660 ---- 05:13:52\n",
      "***** Eval Result: 0.7965, Step: 3500\n",
      "***** Test Result: 0.2836, Step: 3500\n",
      "Epoch: 4/50, Step: 3600, C Loss: 0.4516 ---- 05:14:10\n",
      "Epoch: 4/50, Step: 3700, C Loss: 0.5929 ---- 05:14:17\n",
      "Epoch: 4/50, Step: 3800, C Loss: 0.4181 ---- 05:14:23\n",
      "Epoch: 4/50, Step: 3900, C Loss: 0.2867 ---- 05:14:29\n",
      "Epoch: 4/50, Step: 4000, C Loss: 0.5138 ---- 05:14:36\n",
      "***** Eval Result: 0.8625, Step: 4000\n",
      "***** Test Result: 0.3361, Step: 4000\n",
      "Epoch: 4/50, Step: 4100, C Loss: 0.4716 ---- 05:14:54\n",
      "Epoch: 4/50, Step: 4200, C Loss: 0.6185 ---- 05:15:00\n",
      "Epoch: 4/50, Step: 4300, C Loss: 0.4696 ---- 05:15:07\n",
      "Epoch: 4/50, Step: 4400, C Loss: 0.4005 ---- 05:15:13\n",
      "Epoch: 4/50, Step: 4500, C Loss: 0.3726 ---- 05:15:20\n",
      "***** Eval Result: 0.8869, Step: 4500\n",
      "***** Test Result: 0.2803, Step: 4500\n",
      "Epoch: 5/50, Step: 4600, C Loss: 0.5453 ---- 05:15:38\n",
      "Epoch: 5/50, Step: 4700, C Loss: 0.6047 ---- 05:15:44\n",
      "Epoch: 5/50, Step: 4800, C Loss: 0.5229 ---- 05:15:50\n",
      "Epoch: 5/50, Step: 4900, C Loss: 0.2887 ---- 05:15:57\n",
      "Epoch: 5/50, Step: 5000, C Loss: 0.4958 ---- 05:16:03\n",
      "***** Eval Result: 0.8895, Step: 5000\n",
      "***** Test Result: 0.5511, Step: 5000\n",
      "Epoch: 5/50, Step: 5100, C Loss: 0.4499 ---- 05:16:21\n",
      "Epoch: 5/50, Step: 5200, C Loss: 0.4005 ---- 05:16:28\n",
      "Epoch: 5/50, Step: 5300, C Loss: 0.3493 ---- 05:16:34\n",
      "Epoch: 5/50, Step: 5400, C Loss: 0.3062 ---- 05:16:41\n",
      "Epoch: 5/50, Step: 5500, C Loss: 0.2911 ---- 05:16:47\n",
      "***** Eval Result: 0.8985, Step: 5500\n",
      "***** Test Result: 0.3781, Step: 5500\n",
      "Epoch: 5/50, Step: 5600, C Loss: 0.2583 ---- 05:17:05\n",
      "Epoch: 5/50, Step: 5700, C Loss: 0.4022 ---- 05:17:11\n",
      "Epoch: 6/50, Step: 5800, C Loss: 0.2760 ---- 05:17:18\n",
      "Epoch: 6/50, Step: 5900, C Loss: 0.4282 ---- 05:17:24\n",
      "Epoch: 6/50, Step: 6000, C Loss: 0.4242 ---- 05:17:31\n",
      "***** Eval Result: 0.8863, Step: 6000\n",
      "***** Test Result: 0.4638, Step: 6000\n",
      "Epoch: 6/50, Step: 6100, C Loss: 0.5048 ---- 05:17:49\n",
      "Epoch: 6/50, Step: 6200, C Loss: 0.4057 ---- 05:17:55\n",
      "Epoch: 6/50, Step: 6300, C Loss: 0.3749 ---- 05:18:02\n",
      "Epoch: 6/50, Step: 6400, C Loss: 0.5247 ---- 05:18:08\n",
      "Epoch: 6/50, Step: 6500, C Loss: 0.2675 ---- 05:18:14\n",
      "***** Eval Result: 0.9029, Step: 6500\n",
      "***** Test Result: 0.4154, Step: 6500\n",
      "Epoch: 6/50, Step: 6600, C Loss: 0.2420 ---- 05:18:32\n",
      "Epoch: 6/50, Step: 6700, C Loss: 0.4487 ---- 05:18:39\n",
      "Epoch: 6/50, Step: 6800, C Loss: 0.2060 ---- 05:18:45\n",
      "Epoch: 7/50, Step: 6900, C Loss: 0.1542 ---- 05:18:52\n",
      "Epoch: 7/50, Step: 7000, C Loss: 0.0924 ---- 05:18:58\n",
      "***** Eval Result: 0.8684, Step: 7000\n",
      "***** Test Result: 0.4824, Step: 7000\n",
      "Epoch: 7/50, Step: 7100, C Loss: 0.4566 ---- 05:19:16\n",
      "Epoch: 7/50, Step: 7200, C Loss: 0.2574 ---- 05:19:23\n",
      "Epoch: 7/50, Step: 7300, C Loss: 0.2215 ---- 05:19:29\n",
      "Epoch: 7/50, Step: 7400, C Loss: 0.6018 ---- 05:19:35\n",
      "Epoch: 7/50, Step: 7500, C Loss: 0.3835 ---- 05:19:42\n",
      "***** Eval Result: 0.9046, Step: 7500\n",
      "***** Test Result: 0.4366, Step: 7500\n",
      "Epoch: 7/50, Step: 7600, C Loss: 0.2335 ---- 05:20:00\n",
      "Epoch: 7/50, Step: 7700, C Loss: 0.3034 ---- 05:20:06\n",
      "Epoch: 7/50, Step: 7800, C Loss: 0.2697 ---- 05:20:13\n",
      "Epoch: 7/50, Step: 7900, C Loss: 0.2036 ---- 05:20:19\n",
      "Epoch: 7/50, Step: 8000, C Loss: 0.3531 ---- 05:20:25\n",
      "***** Eval Result: 0.9033, Step: 8000\n",
      "***** Test Result: 0.3287, Step: 8000\n",
      "Epoch: 8/50, Step: 8100, C Loss: 0.2578 ---- 05:20:43\n",
      "Epoch: 8/50, Step: 8200, C Loss: 0.2338 ---- 05:20:50\n",
      "Epoch: 8/50, Step: 8300, C Loss: 0.2221 ---- 05:20:56\n",
      "Epoch: 8/50, Step: 8400, C Loss: 0.2098 ---- 05:21:02\n",
      "Epoch: 8/50, Step: 8500, C Loss: 0.3476 ---- 05:21:09\n",
      "***** Eval Result: 0.9155, Step: 8500\n",
      "***** Test Result: 0.3397, Step: 8500\n",
      "Epoch: 8/50, Step: 8600, C Loss: 0.2871 ---- 05:21:27\n",
      "Epoch: 8/50, Step: 8700, C Loss: 0.4675 ---- 05:21:33\n",
      "Epoch: 8/50, Step: 8800, C Loss: 0.1984 ---- 05:21:40\n",
      "Epoch: 8/50, Step: 8900, C Loss: 0.1358 ---- 05:21:46\n",
      "Epoch: 8/50, Step: 9000, C Loss: 0.2463 ---- 05:21:53\n",
      "***** Eval Result: 0.9186, Step: 9000\n",
      "***** Test Result: 0.5453, Step: 9000\n",
      "Epoch: 8/50, Step: 9100, C Loss: 0.2802 ---- 05:22:11\n",
      "Epoch: 9/50, Step: 9200, C Loss: 0.3357 ---- 05:22:17\n",
      "Epoch: 9/50, Step: 9300, C Loss: 0.1713 ---- 05:22:23\n",
      "Epoch: 9/50, Step: 9400, C Loss: 0.5229 ---- 05:22:30\n",
      "Epoch: 9/50, Step: 9500, C Loss: 0.1786 ---- 05:22:36\n",
      "***** Eval Result: 0.9125, Step: 9500\n",
      "***** Test Result: 0.4767, Step: 9500\n",
      "Epoch: 9/50, Step: 9600, C Loss: 0.2466 ---- 05:22:54\n",
      "Epoch: 9/50, Step: 9700, C Loss: 0.2692 ---- 05:23:01\n",
      "Epoch: 9/50, Step: 9800, C Loss: 0.4295 ---- 05:23:07\n",
      "Epoch: 9/50, Step: 9900, C Loss: 0.5643 ---- 05:23:13\n",
      "Epoch: 9/50, Step: 10000, C Loss: 0.2152 ---- 05:23:20\n",
      "***** Eval Result: 0.9172, Step: 10000\n",
      "***** Test Result: 0.5070, Step: 10000\n",
      "Epoch: 9/50, Step: 10100, C Loss: 0.2127 ---- 05:23:38\n",
      "Epoch: 9/50, Step: 10200, C Loss: 0.2968 ---- 05:23:44\n",
      "Epoch: 10/50, Step: 10300, C Loss: 0.3067 ---- 05:23:51\n",
      "Epoch: 10/50, Step: 10400, C Loss: 0.1516 ---- 05:23:57\n",
      "Epoch: 10/50, Step: 10500, C Loss: 0.2920 ---- 05:24:04\n",
      "***** Eval Result: 0.9237, Step: 10500\n",
      "***** Test Result: 0.4127, Step: 10500\n",
      "Epoch: 10/50, Step: 10600, C Loss: 0.2341 ---- 05:24:22\n",
      "Epoch: 10/50, Step: 10700, C Loss: 0.3020 ---- 05:24:28\n",
      "Epoch: 10/50, Step: 10800, C Loss: 0.1450 ---- 05:24:34\n",
      "Epoch: 10/50, Step: 10900, C Loss: 0.2803 ---- 05:24:41\n",
      "Epoch: 10/50, Step: 11000, C Loss: 0.4618 ---- 05:24:47\n",
      "***** Eval Result: 0.9216, Step: 11000\n",
      "***** Test Result: 0.4825, Step: 11000\n",
      "Epoch: 10/50, Step: 11100, C Loss: 0.2443 ---- 05:25:05\n",
      "Epoch: 10/50, Step: 11200, C Loss: 0.1502 ---- 05:25:12\n",
      "Epoch: 10/50, Step: 11300, C Loss: 0.1335 ---- 05:25:18\n",
      "Epoch: 10/50, Step: 11400, C Loss: 0.1666 ---- 05:25:24\n",
      "Epoch: 11/50, Step: 11500, C Loss: 0.2195 ---- 05:25:31\n",
      "***** Eval Result: 0.9193, Step: 11500\n",
      "***** Test Result: 0.4177, Step: 11500\n",
      "Epoch: 11/50, Step: 11600, C Loss: 0.2073 ---- 05:25:49\n",
      "Epoch: 11/50, Step: 11700, C Loss: 0.0849 ---- 05:25:55\n"
     ]
    },
    {
     "name": "stdout",
     "output_type": "stream",
     "text": [
      "Epoch: 11/50, Step: 11800, C Loss: 0.2066 ---- 05:26:02\n",
      "Epoch: 11/50, Step: 11900, C Loss: 0.3356 ---- 05:26:08\n",
      "Epoch: 11/50, Step: 12000, C Loss: 0.2478 ---- 05:26:15\n",
      "***** Eval Result: 0.9117, Step: 12000\n",
      "***** Test Result: 0.4888, Step: 12000\n",
      "Epoch: 11/50, Step: 12100, C Loss: 0.1986 ---- 05:26:33\n",
      "Epoch: 11/50, Step: 12200, C Loss: 0.1354 ---- 05:26:39\n",
      "Epoch: 11/50, Step: 12300, C Loss: 0.1408 ---- 05:26:46\n",
      "Epoch: 11/50, Step: 12400, C Loss: 0.1469 ---- 05:26:52\n",
      "Epoch: 11/50, Step: 12500, C Loss: 0.2274 ---- 05:26:58\n",
      "***** Eval Result: 0.9224, Step: 12500\n",
      "***** Test Result: 0.4555, Step: 12500\n",
      "Epoch: 12/50, Step: 12600, C Loss: 0.1501 ---- 05:27:16\n",
      "Epoch: 12/50, Step: 12700, C Loss: 0.2082 ---- 05:27:23\n",
      "Epoch: 12/50, Step: 12800, C Loss: 0.1478 ---- 05:27:29\n",
      "Epoch: 12/50, Step: 12900, C Loss: 0.2060 ---- 05:27:36\n",
      "Epoch: 12/50, Step: 13000, C Loss: 0.1271 ---- 05:27:42\n",
      "***** Eval Result: 0.9078, Step: 13000\n",
      "***** Test Result: 0.5270, Step: 13000\n",
      "Epoch: 12/50, Step: 13100, C Loss: 0.5025 ---- 05:28:00\n",
      "Epoch: 12/50, Step: 13200, C Loss: 0.3010 ---- 05:28:06\n",
      "Epoch: 12/50, Step: 13300, C Loss: 0.1918 ---- 05:28:13\n",
      "Epoch: 12/50, Step: 13400, C Loss: 0.3435 ---- 05:28:19\n",
      "Epoch: 12/50, Step: 13500, C Loss: 0.1789 ---- 05:28:26\n",
      "***** Eval Result: 0.9253, Step: 13500\n",
      "***** Test Result: 0.5453, Step: 13500\n",
      "Epoch: 12/50, Step: 13600, C Loss: 0.1806 ---- 05:28:44\n",
      "Epoch: 12/50, Step: 13700, C Loss: 0.3411 ---- 05:28:50\n",
      "Epoch: 13/50, Step: 13800, C Loss: 0.1208 ---- 05:28:57\n",
      "Epoch: 13/50, Step: 13900, C Loss: 0.3258 ---- 05:29:03\n",
      "Epoch: 13/50, Step: 14000, C Loss: 0.3066 ---- 05:29:09\n",
      "***** Eval Result: 0.9302, Step: 14000\n",
      "***** Test Result: 0.5207, Step: 14000\n",
      "Epoch: 13/50, Step: 14100, C Loss: 0.2376 ---- 05:29:27\n",
      "Epoch: 13/50, Step: 14200, C Loss: 0.2700 ---- 05:29:34\n",
      "Epoch: 13/50, Step: 14300, C Loss: 0.3610 ---- 05:29:40\n",
      "Epoch: 13/50, Step: 14400, C Loss: 0.2234 ---- 05:29:47\n",
      "Epoch: 13/50, Step: 14500, C Loss: 0.0655 ---- 05:29:53\n",
      "***** Eval Result: 0.9111, Step: 14500\n",
      "***** Test Result: 0.5453, Step: 14500\n",
      "Epoch: 13/50, Step: 14600, C Loss: 0.1381 ---- 05:30:11\n",
      "Epoch: 13/50, Step: 14700, C Loss: 0.1552 ---- 05:30:18\n",
      "Epoch: 13/50, Step: 14800, C Loss: 0.2627 ---- 05:30:24\n",
      "Epoch: 14/50, Step: 14900, C Loss: 0.1712 ---- 05:30:31\n",
      "Epoch: 14/50, Step: 15000, C Loss: 0.1602 ---- 05:30:37\n",
      "***** Eval Result: 0.9255, Step: 15000\n",
      "***** Test Result: 0.4032, Step: 15000\n",
      "Epoch: 14/50, Step: 15100, C Loss: 0.1072 ---- 05:30:55\n",
      "Epoch: 14/50, Step: 15200, C Loss: 0.2377 ---- 05:31:01\n",
      "Epoch: 14/50, Step: 15300, C Loss: 0.2460 ---- 05:31:08\n",
      "Epoch: 14/50, Step: 15400, C Loss: 0.2210 ---- 05:31:14\n",
      "Epoch: 14/50, Step: 15500, C Loss: 0.2100 ---- 05:31:21\n",
      "***** Eval Result: 0.9235, Step: 15500\n",
      "***** Test Result: 0.5209, Step: 15500\n",
      "Epoch: 14/50, Step: 15600, C Loss: 0.1568 ---- 05:31:39\n",
      "Epoch: 14/50, Step: 15700, C Loss: 0.1963 ---- 05:31:45\n",
      "Epoch: 14/50, Step: 15800, C Loss: 0.1913 ---- 05:31:51\n",
      "Epoch: 14/50, Step: 15900, C Loss: 0.2967 ---- 05:31:58\n",
      "Epoch: 14/50, Step: 16000, C Loss: 0.1811 ---- 05:32:04\n",
      "***** Eval Result: 0.9122, Step: 16000\n",
      "***** Test Result: 0.4512, Step: 16000\n",
      "Epoch: 15/50, Step: 16100, C Loss: 0.0520 ---- 05:32:22\n",
      "Epoch: 15/50, Step: 16200, C Loss: 0.0905 ---- 05:32:29\n",
      "Epoch: 15/50, Step: 16300, C Loss: 0.0781 ---- 05:32:35\n",
      "Epoch: 15/50, Step: 16400, C Loss: 0.1601 ---- 05:32:42\n",
      "Epoch: 15/50, Step: 16500, C Loss: 0.0898 ---- 05:32:48\n",
      "***** Eval Result: 0.9265, Step: 16500\n",
      "***** Test Result: 0.5402, Step: 16500\n",
      "Epoch: 15/50, Step: 16600, C Loss: 0.1698 ---- 05:33:06\n",
      "Epoch: 15/50, Step: 16700, C Loss: 0.2887 ---- 05:33:13\n",
      "Epoch: 15/50, Step: 16800, C Loss: 0.1305 ---- 05:33:19\n",
      "Epoch: 15/50, Step: 16900, C Loss: 0.2903 ---- 05:33:25\n",
      "Epoch: 15/50, Step: 17000, C Loss: 0.1810 ---- 05:33:32\n",
      "***** Eval Result: 0.9325, Step: 17000\n",
      "***** Test Result: 0.5780, Step: 17000\n",
      "Epoch: 15/50, Step: 17100, C Loss: 0.1319 ---- 05:33:50\n",
      "Epoch: 16/50, Step: 17200, C Loss: 0.1307 ---- 05:33:56\n",
      "Epoch: 16/50, Step: 17300, C Loss: 0.0980 ---- 05:34:03\n",
      "Epoch: 16/50, Step: 17400, C Loss: 0.2094 ---- 05:34:09\n",
      "Epoch: 16/50, Step: 17500, C Loss: 0.1346 ---- 05:34:15\n",
      "***** Eval Result: 0.9207, Step: 17500\n",
      "***** Test Result: 0.5144, Step: 17500\n",
      "Epoch: 16/50, Step: 17600, C Loss: 0.1134 ---- 05:34:34\n",
      "Epoch: 16/50, Step: 17700, C Loss: 0.1220 ---- 05:34:40\n",
      "Epoch: 16/50, Step: 17800, C Loss: 0.2317 ---- 05:34:46\n",
      "Epoch: 16/50, Step: 17900, C Loss: 0.0911 ---- 05:34:53\n",
      "Epoch: 16/50, Step: 18000, C Loss: 0.1377 ---- 05:34:59\n",
      "***** Eval Result: 0.9193, Step: 18000\n",
      "***** Test Result: 0.5245, Step: 18000\n",
      "Epoch: 16/50, Step: 18100, C Loss: 0.1689 ---- 05:35:17\n",
      "Epoch: 16/50, Step: 18200, C Loss: 0.1609 ---- 05:35:24\n",
      "Epoch: 16/50, Step: 18300, C Loss: 0.0618 ---- 05:35:30\n",
      "Epoch: 17/50, Step: 18400, C Loss: 0.1935 ---- 05:35:36\n",
      "Epoch: 17/50, Step: 18500, C Loss: 0.0856 ---- 05:35:43\n",
      "***** Eval Result: 0.9277, Step: 18500\n",
      "***** Test Result: 0.5451, Step: 18500\n",
      "Epoch: 17/50, Step: 18600, C Loss: 0.1559 ---- 05:36:01\n",
      "Epoch: 17/50, Step: 18700, C Loss: 0.1837 ---- 05:36:07\n",
      "Epoch: 17/50, Step: 18800, C Loss: 0.0352 ---- 05:36:14\n",
      "Epoch: 17/50, Step: 18900, C Loss: 0.0556 ---- 05:36:20\n",
      "Epoch: 17/50, Step: 19000, C Loss: 0.1078 ---- 05:36:26\n",
      "***** Eval Result: 0.9196, Step: 19000\n",
      "***** Test Result: 0.4310, Step: 19000\n",
      "Epoch: 17/50, Step: 19100, C Loss: 0.1668 ---- 05:36:45\n",
      "Epoch: 17/50, Step: 19200, C Loss: 0.0676 ---- 05:36:51\n",
      "Epoch: 17/50, Step: 19300, C Loss: 0.0851 ---- 05:36:57\n",
      "Epoch: 17/50, Step: 19400, C Loss: 0.2705 ---- 05:37:04\n",
      "Epoch: 18/50, Step: 19500, C Loss: 0.0542 ---- 05:37:10\n",
      "***** Eval Result: 0.9248, Step: 19500\n",
      "***** Test Result: 0.4142, Step: 19500\n",
      "Epoch: 18/50, Step: 19600, C Loss: 0.1114 ---- 05:37:28\n",
      "Epoch: 18/50, Step: 19700, C Loss: 0.0304 ---- 05:37:35\n",
      "Epoch: 18/50, Step: 19800, C Loss: 0.1634 ---- 05:37:41\n",
      "Epoch: 18/50, Step: 19900, C Loss: 0.1760 ---- 05:37:48\n",
      "Epoch: 18/50, Step: 20000, C Loss: 0.1702 ---- 05:37:54\n",
      "***** Eval Result: 0.9261, Step: 20000\n",
      "***** Test Result: 0.4987, Step: 20000\n",
      "Epoch: 18/50, Step: 20100, C Loss: 0.1511 ---- 05:38:12\n",
      "Epoch: 18/50, Step: 20200, C Loss: 0.1358 ---- 05:38:19\n",
      "Epoch: 18/50, Step: 20300, C Loss: 0.2099 ---- 05:38:25\n",
      "Epoch: 18/50, Step: 20400, C Loss: 0.1088 ---- 05:38:31\n",
      "Epoch: 18/50, Step: 20500, C Loss: 0.1869 ---- 05:38:38\n",
      "***** Eval Result: 0.9224, Step: 20500\n",
      "***** Test Result: 0.3913, Step: 20500\n",
      "Epoch: 19/50, Step: 20600, C Loss: 0.1566 ---- 05:38:56\n",
      "Epoch: 19/50, Step: 20700, C Loss: 0.1877 ---- 05:39:02\n",
      "Epoch: 19/50, Step: 20800, C Loss: 0.0961 ---- 05:39:09\n",
      "Epoch: 19/50, Step: 20900, C Loss: 0.1183 ---- 05:39:15\n",
      "Epoch: 19/50, Step: 21000, C Loss: 0.1384 ---- 05:39:22\n",
      "***** Eval Result: 0.9167, Step: 21000\n",
      "***** Test Result: 0.3781, Step: 21000\n",
      "Epoch: 19/50, Step: 21100, C Loss: 0.1563 ---- 05:39:40\n",
      "Epoch: 19/50, Step: 21200, C Loss: 0.0309 ---- 05:39:46\n",
      "Epoch: 19/50, Step: 21300, C Loss: 0.2499 ---- 05:39:53\n",
      "Epoch: 19/50, Step: 21400, C Loss: 0.1191 ---- 05:39:59\n",
      "Epoch: 19/50, Step: 21500, C Loss: 0.2343 ---- 05:40:05\n",
      "***** Eval Result: 0.9316, Step: 21500\n",
      "***** Test Result: 0.5357, Step: 21500\n",
      "Epoch: 19/50, Step: 21600, C Loss: 0.0940 ---- 05:40:23\n",
      "Epoch: 19/50, Step: 21700, C Loss: 0.1010 ---- 05:40:30\n",
      "Epoch: 20/50, Step: 21800, C Loss: 0.0586 ---- 05:40:36\n",
      "Epoch: 20/50, Step: 21900, C Loss: 0.0783 ---- 05:40:43\n",
      "Epoch: 20/50, Step: 22000, C Loss: 0.0852 ---- 05:40:49\n",
      "***** Eval Result: 0.9199, Step: 22000\n",
      "***** Test Result: 0.4269, Step: 22000\n",
      "Epoch: 20/50, Step: 22100, C Loss: 0.0749 ---- 05:41:07\n",
      "Epoch: 20/50, Step: 22200, C Loss: 0.0994 ---- 05:41:14\n",
      "Epoch: 20/50, Step: 22300, C Loss: 0.1209 ---- 05:41:20\n",
      "Epoch: 20/50, Step: 22400, C Loss: 0.1501 ---- 05:41:27\n",
      "Epoch: 20/50, Step: 22500, C Loss: 0.1468 ---- 05:41:33\n",
      "***** Eval Result: 0.9123, Step: 22500\n",
      "***** Test Result: 0.2952, Step: 22500\n",
      "Epoch: 20/50, Step: 22600, C Loss: 0.1845 ---- 05:41:51\n",
      "Epoch: 20/50, Step: 22700, C Loss: 0.0550 ---- 05:41:58\n",
      "Epoch: 20/50, Step: 22800, C Loss: 0.0864 ---- 05:42:04\n",
      "Epoch: 21/50, Step: 22900, C Loss: 0.0578 ---- 05:42:10\n",
      "Epoch: 21/50, Step: 23000, C Loss: 0.0625 ---- 05:42:17\n",
      "***** Eval Result: 0.9224, Step: 23000\n",
      "***** Test Result: 0.5403, Step: 23000\n",
      "Epoch: 21/50, Step: 23100, C Loss: 0.0462 ---- 05:42:35\n",
      "Epoch: 21/50, Step: 23200, C Loss: 0.0366 ---- 05:42:41\n"
     ]
    },
    {
     "name": "stdout",
     "output_type": "stream",
     "text": [
      "Epoch: 21/50, Step: 23300, C Loss: 0.0402 ---- 05:42:48\n",
      "Epoch: 21/50, Step: 23400, C Loss: 0.1669 ---- 05:42:54\n",
      "Epoch: 21/50, Step: 23500, C Loss: 0.0607 ---- 05:43:01\n",
      "***** Eval Result: 0.9317, Step: 23500\n",
      "***** Test Result: 0.5417, Step: 23500\n",
      "Epoch: 21/50, Step: 23600, C Loss: 0.0598 ---- 05:43:19\n",
      "Epoch: 21/50, Step: 23700, C Loss: 0.0679 ---- 05:43:25\n",
      "Epoch: 21/50, Step: 23800, C Loss: 0.0608 ---- 05:43:31\n",
      "Epoch: 21/50, Step: 23900, C Loss: 0.1545 ---- 05:43:38\n",
      "Epoch: 21/50, Step: 24000, C Loss: 0.1994 ---- 05:43:44\n",
      "***** Eval Result: 0.9174, Step: 24000\n",
      "***** Test Result: 0.4973, Step: 24000\n",
      "Epoch: 22/50, Step: 24100, C Loss: 0.0410 ---- 05:44:02\n",
      "Epoch: 22/50, Step: 24200, C Loss: 0.0265 ---- 05:44:09\n",
      "Epoch: 22/50, Step: 24300, C Loss: 0.1230 ---- 05:44:15\n",
      "Epoch: 22/50, Step: 24400, C Loss: 0.0827 ---- 05:44:22\n",
      "Epoch: 22/50, Step: 24500, C Loss: 0.0252 ---- 05:44:28\n",
      "***** Eval Result: 0.9072, Step: 24500\n",
      "***** Test Result: 0.4130, Step: 24500\n",
      "Epoch: 22/50, Step: 24600, C Loss: 0.0388 ---- 05:44:46\n",
      "Epoch: 22/50, Step: 24700, C Loss: 0.0554 ---- 05:44:53\n",
      "Epoch: 22/50, Step: 24800, C Loss: 0.0930 ---- 05:44:59\n",
      "Epoch: 22/50, Step: 24900, C Loss: 0.1010 ---- 05:45:05\n",
      "Epoch: 22/50, Step: 25000, C Loss: 0.1147 ---- 05:45:12\n",
      "***** Eval Result: 0.9140, Step: 25000\n",
      "***** Test Result: 0.4427, Step: 25000\n",
      "Epoch: 22/50, Step: 25100, C Loss: 0.1742 ---- 05:45:30\n",
      "Epoch: 23/50, Step: 25200, C Loss: 0.0270 ---- 05:45:36\n",
      "Epoch: 23/50, Step: 25300, C Loss: 0.0262 ---- 05:45:43\n",
      "Epoch: 23/50, Step: 25400, C Loss: 0.0312 ---- 05:45:49\n",
      "Epoch: 23/50, Step: 25500, C Loss: 0.0406 ---- 05:45:56\n",
      "***** Eval Result: 0.9348, Step: 25500\n",
      "***** Test Result: 0.5003, Step: 25500\n",
      "Epoch: 23/50, Step: 25600, C Loss: 0.1108 ---- 05:46:14\n",
      "Epoch: 23/50, Step: 25700, C Loss: 0.0632 ---- 05:46:20\n",
      "Epoch: 23/50, Step: 25800, C Loss: 0.0878 ---- 05:46:26\n",
      "Epoch: 23/50, Step: 25900, C Loss: 0.0244 ---- 05:46:33\n",
      "Epoch: 23/50, Step: 26000, C Loss: 0.0539 ---- 05:46:39\n",
      "***** Eval Result: 0.9078, Step: 26000\n",
      "***** Test Result: 0.4136, Step: 26000\n",
      "Epoch: 23/50, Step: 26100, C Loss: 0.1074 ---- 05:46:57\n",
      "Epoch: 23/50, Step: 26200, C Loss: 0.0850 ---- 05:47:04\n",
      "Epoch: 23/50, Step: 26300, C Loss: 0.1661 ---- 05:47:10\n",
      "Epoch: 24/50, Step: 26400, C Loss: 0.0635 ---- 05:47:16\n",
      "Epoch: 24/50, Step: 26500, C Loss: 0.0237 ---- 05:47:23\n",
      "***** Eval Result: 0.9276, Step: 26500\n",
      "***** Test Result: 0.4777, Step: 26500\n",
      "Epoch: 24/50, Step: 26600, C Loss: 0.0906 ---- 05:47:41\n",
      "Epoch: 24/50, Step: 26700, C Loss: 0.0651 ---- 05:47:48\n",
      "Epoch: 24/50, Step: 26800, C Loss: 0.0487 ---- 05:47:54\n",
      "Epoch: 24/50, Step: 26900, C Loss: 0.0378 ---- 05:48:00\n",
      "Epoch: 24/50, Step: 27000, C Loss: 0.0141 ---- 05:48:07\n",
      "***** Eval Result: 0.9001, Step: 27000\n",
      "***** Test Result: 0.3056, Step: 27000\n",
      "Epoch: 24/50, Step: 27100, C Loss: 0.0137 ---- 05:48:25\n",
      "Epoch: 24/50, Step: 27200, C Loss: 0.0304 ---- 05:48:31\n",
      "Epoch: 24/50, Step: 27300, C Loss: 0.1276 ---- 05:48:38\n",
      "Epoch: 24/50, Step: 27400, C Loss: 0.1972 ---- 05:48:44\n",
      "Epoch: 25/50, Step: 27500, C Loss: 0.0785 ---- 05:48:51\n",
      "***** Eval Result: 0.9241, Step: 27500\n",
      "***** Test Result: 0.5002, Step: 27500\n",
      "Epoch: 25/50, Step: 27600, C Loss: 0.0567 ---- 05:49:09\n",
      "Epoch: 25/50, Step: 27700, C Loss: 0.0154 ---- 05:49:15\n",
      "Epoch: 25/50, Step: 27800, C Loss: 0.0556 ---- 05:49:21\n",
      "Epoch: 25/50, Step: 27900, C Loss: 0.0847 ---- 05:49:28\n",
      "Epoch: 25/50, Step: 28000, C Loss: 0.0990 ---- 05:49:34\n",
      "***** Eval Result: 0.9251, Step: 28000\n",
      "***** Test Result: 0.4244, Step: 28000\n",
      "Epoch: 25/50, Step: 28100, C Loss: 0.0207 ---- 05:49:52\n",
      "Epoch: 25/50, Step: 28200, C Loss: 0.1057 ---- 05:49:59\n",
      "Epoch: 25/50, Step: 28300, C Loss: 0.0381 ---- 05:50:05\n",
      "Epoch: 25/50, Step: 28400, C Loss: 0.0866 ---- 05:50:12\n",
      "Epoch: 25/50, Step: 28500, C Loss: 0.2022 ---- 05:50:18\n",
      "***** Eval Result: 0.9216, Step: 28500\n",
      "***** Test Result: 0.4933, Step: 28500\n",
      "Epoch: 26/50, Step: 28600, C Loss: 0.0471 ---- 05:50:36\n",
      "Epoch: 26/50, Step: 28700, C Loss: 0.0060 ---- 05:50:42\n",
      "Epoch: 26/50, Step: 28800, C Loss: 0.0345 ---- 05:50:49\n",
      "Epoch: 26/50, Step: 28900, C Loss: 0.0274 ---- 05:50:55\n",
      "Epoch: 26/50, Step: 29000, C Loss: 0.0210 ---- 05:51:02\n",
      "***** Eval Result: 0.9147, Step: 29000\n",
      "***** Test Result: 0.4292, Step: 29000\n",
      "Epoch: 26/50, Step: 29100, C Loss: 0.0412 ---- 05:51:20\n",
      "Epoch: 26/50, Step: 29200, C Loss: 0.0766 ---- 05:51:26\n",
      "Epoch: 26/50, Step: 29300, C Loss: 0.0622 ---- 05:51:33\n",
      "Epoch: 26/50, Step: 29400, C Loss: 0.0920 ---- 05:51:39\n",
      "Epoch: 26/50, Step: 29500, C Loss: 0.0433 ---- 05:51:46\n",
      "***** Eval Result: 0.9184, Step: 29500\n",
      "***** Test Result: 0.4725, Step: 29500\n",
      "Epoch: 26/50, Step: 29600, C Loss: 0.0508 ---- 05:52:04\n",
      "Epoch: 26/50, Step: 29700, C Loss: 0.1408 ---- 05:52:10\n",
      "Epoch: 27/50, Step: 29800, C Loss: 0.0253 ---- 05:52:16\n",
      "Epoch: 27/50, Step: 29900, C Loss: 0.0618 ---- 05:52:23\n",
      "Epoch: 27/50, Step: 30000, C Loss: 0.0486 ---- 05:52:29\n",
      "***** Eval Result: 0.9282, Step: 30000\n",
      "***** Test Result: 0.3906, Step: 30000\n",
      "Epoch: 27/50, Step: 30100, C Loss: 0.0523 ---- 05:52:47\n",
      "Epoch: 27/50, Step: 30200, C Loss: 0.0242 ---- 05:52:54\n",
      "Epoch: 27/50, Step: 30300, C Loss: 0.0398 ---- 05:53:00\n",
      "Epoch: 27/50, Step: 30400, C Loss: 0.0365 ---- 05:53:07\n",
      "Epoch: 27/50, Step: 30500, C Loss: 0.2105 ---- 05:53:13\n",
      "***** Eval Result: 0.8879, Step: 30500\n",
      "***** Test Result: 0.3528, Step: 30500\n",
      "Epoch: 27/50, Step: 30600, C Loss: 0.0567 ---- 05:53:31\n",
      "Epoch: 27/50, Step: 30700, C Loss: 0.1782 ---- 05:53:37\n",
      "Epoch: 27/50, Step: 30800, C Loss: 0.0589 ---- 05:53:44\n",
      "Epoch: 28/50, Step: 30900, C Loss: 0.0218 ---- 05:53:50\n",
      "Epoch: 28/50, Step: 31000, C Loss: 0.0814 ---- 05:53:57\n",
      "***** Eval Result: 0.9299, Step: 31000\n",
      "***** Test Result: 0.4450, Step: 31000\n",
      "Epoch: 28/50, Step: 31100, C Loss: 0.0209 ---- 05:54:15\n",
      "Epoch: 28/50, Step: 31200, C Loss: 0.0243 ---- 05:54:21\n",
      "Epoch: 28/50, Step: 31300, C Loss: 0.0133 ---- 05:54:28\n",
      "Epoch: 28/50, Step: 31400, C Loss: 0.0174 ---- 05:54:34\n",
      "Epoch: 28/50, Step: 31500, C Loss: 0.0442 ---- 05:54:40\n",
      "***** Eval Result: 0.9194, Step: 31500\n",
      "***** Test Result: 0.4287, Step: 31500\n",
      "Epoch: 28/50, Step: 31600, C Loss: 0.1871 ---- 05:54:59\n",
      "Epoch: 28/50, Step: 31700, C Loss: 0.0157 ---- 05:55:05\n",
      "Epoch: 28/50, Step: 31800, C Loss: 0.0542 ---- 05:55:11\n",
      "Epoch: 28/50, Step: 31900, C Loss: 0.0107 ---- 05:55:18\n",
      "Epoch: 28/50, Step: 32000, C Loss: 0.0288 ---- 05:55:24\n",
      "***** Eval Result: 0.9203, Step: 32000\n",
      "***** Test Result: 0.5562, Step: 32000\n",
      "Epoch: 29/50, Step: 32100, C Loss: 0.0453 ---- 05:55:42\n",
      "Epoch: 29/50, Step: 32200, C Loss: 0.1094 ---- 05:55:49\n",
      "Epoch: 29/50, Step: 32300, C Loss: 0.0173 ---- 05:55:55\n",
      "Epoch: 29/50, Step: 32400, C Loss: 0.1174 ---- 05:56:02\n",
      "Epoch: 29/50, Step: 32500, C Loss: 0.0527 ---- 05:56:08\n",
      "***** Eval Result: 0.9240, Step: 32500\n",
      "***** Test Result: 0.4559, Step: 32500\n",
      "Epoch: 29/50, Step: 32600, C Loss: 0.0357 ---- 05:56:26\n",
      "Epoch: 29/50, Step: 32700, C Loss: 0.0141 ---- 05:56:32\n",
      "Epoch: 29/50, Step: 32800, C Loss: 0.0549 ---- 05:56:39\n",
      "Epoch: 29/50, Step: 32900, C Loss: 0.0264 ---- 05:56:45\n",
      "Epoch: 29/50, Step: 33000, C Loss: 0.0332 ---- 05:56:52\n",
      "***** Eval Result: 0.9281, Step: 33000\n",
      "***** Test Result: 0.4812, Step: 33000\n",
      "Epoch: 29/50, Step: 33100, C Loss: 0.0611 ---- 05:57:10\n",
      "Epoch: 30/50, Step: 33200, C Loss: 0.0553 ---- 05:57:16\n",
      "Epoch: 30/50, Step: 33300, C Loss: 0.0316 ---- 05:57:23\n",
      "Epoch: 30/50, Step: 33400, C Loss: 0.0095 ---- 05:57:29\n",
      "Epoch: 30/50, Step: 33500, C Loss: 0.0599 ---- 05:57:36\n",
      "***** Eval Result: 0.9271, Step: 33500\n",
      "***** Test Result: 0.5519, Step: 33500\n",
      "Epoch: 30/50, Step: 33600, C Loss: 0.0061 ---- 05:57:54\n",
      "Epoch: 30/50, Step: 33700, C Loss: 0.0154 ---- 05:58:00\n",
      "Epoch: 30/50, Step: 33800, C Loss: 0.0202 ---- 05:58:07\n",
      "Epoch: 30/50, Step: 33900, C Loss: 0.0892 ---- 05:58:13\n",
      "Epoch: 30/50, Step: 34000, C Loss: 0.0043 ---- 05:58:19\n",
      "***** Eval Result: 0.9225, Step: 34000\n",
      "***** Test Result: 0.4235, Step: 34000\n",
      "Epoch: 30/50, Step: 34100, C Loss: 0.2450 ---- 05:58:37\n",
      "Epoch: 30/50, Step: 34200, C Loss: 0.0296 ---- 05:58:44\n",
      "Epoch: 30/50, Step: 34300, C Loss: 0.1301 ---- 05:58:50\n",
      "Epoch: 31/50, Step: 34400, C Loss: 0.0238 ---- 05:58:57\n",
      "Epoch: 31/50, Step: 34500, C Loss: 0.0658 ---- 05:59:03\n",
      "***** Eval Result: 0.9306, Step: 34500\n",
      "***** Test Result: 0.4531, Step: 34500\n",
      "Epoch: 31/50, Step: 34600, C Loss: 0.0569 ---- 05:59:21\n",
      "Epoch: 31/50, Step: 34700, C Loss: 0.0334 ---- 05:59:27\n"
     ]
    },
    {
     "name": "stdout",
     "output_type": "stream",
     "text": [
      "Epoch: 31/50, Step: 34800, C Loss: 0.0952 ---- 05:59:34\n",
      "Epoch: 31/50, Step: 34900, C Loss: 0.0284 ---- 05:59:40\n",
      "Epoch: 31/50, Step: 35000, C Loss: 0.0564 ---- 05:59:47\n",
      "***** Eval Result: 0.9249, Step: 35000\n",
      "***** Test Result: 0.4800, Step: 35000\n",
      "Epoch: 31/50, Step: 35100, C Loss: 0.0548 ---- 06:00:05\n",
      "Epoch: 31/50, Step: 35200, C Loss: 0.1651 ---- 06:00:11\n",
      "Epoch: 31/50, Step: 35300, C Loss: 0.0931 ---- 06:00:18\n",
      "Epoch: 31/50, Step: 35400, C Loss: 0.1654 ---- 06:00:24\n",
      "Epoch: 32/50, Step: 35500, C Loss: 0.0404 ---- 06:00:30\n",
      "***** Eval Result: 0.9188, Step: 35500\n",
      "***** Test Result: 0.4325, Step: 35500\n",
      "Epoch: 32/50, Step: 35600, C Loss: 0.0614 ---- 06:00:48\n",
      "Epoch: 32/50, Step: 35700, C Loss: 0.0294 ---- 06:00:55\n"
     ]
    },
    {
     "ename": "KeyboardInterrupt",
     "evalue": "",
     "output_type": "error",
     "traceback": [
      "\u001b[0;31m---------------------------------------------------------------------------\u001b[0m",
      "\u001b[0;31mKeyboardInterrupt\u001b[0m                         Traceback (most recent call last)",
      "\u001b[0;32m<ipython-input-29-3c2ff3ca10ee>\u001b[0m in \u001b[0;36m<module>\u001b[0;34m()\u001b[0m\n\u001b[1;32m      3\u001b[0m         \u001b[0mtgt_images\u001b[0m\u001b[0;34m,\u001b[0m \u001b[0m_\u001b[0m \u001b[0;34m=\u001b[0m \u001b[0msample_mnist\u001b[0m\u001b[0;34m(\u001b[0m\u001b[0mstep\u001b[0m\u001b[0;34m,\u001b[0m \u001b[0mn_batches\u001b[0m\u001b[0;34m)\u001b[0m\u001b[0;34m\u001b[0m\u001b[0m\n\u001b[1;32m      4\u001b[0m         \u001b[0;31m# Training Discriminator\u001b[0m\u001b[0;34m\u001b[0m\u001b[0;34m\u001b[0m\u001b[0m\n\u001b[0;32m----> 5\u001b[0;31m         \u001b[0msrc\u001b[0m\u001b[0;34m,\u001b[0m \u001b[0mlabels\u001b[0m\u001b[0;34m,\u001b[0m \u001b[0mtgt\u001b[0m \u001b[0;34m=\u001b[0m \u001b[0msrc_images\u001b[0m\u001b[0;34m.\u001b[0m\u001b[0mto\u001b[0m\u001b[0;34m(\u001b[0m\u001b[0mDEVICE\u001b[0m\u001b[0;34m)\u001b[0m\u001b[0;34m,\u001b[0m \u001b[0mlabels\u001b[0m\u001b[0;34m.\u001b[0m\u001b[0mto\u001b[0m\u001b[0;34m(\u001b[0m\u001b[0mDEVICE\u001b[0m\u001b[0;34m)\u001b[0m\u001b[0;34m,\u001b[0m \u001b[0mtgt_images\u001b[0m\u001b[0;34m.\u001b[0m\u001b[0mto\u001b[0m\u001b[0;34m(\u001b[0m\u001b[0mDEVICE\u001b[0m\u001b[0;34m)\u001b[0m\u001b[0;34m\u001b[0m\u001b[0m\n\u001b[0m\u001b[1;32m      6\u001b[0m \u001b[0;34m\u001b[0m\u001b[0m\n\u001b[1;32m      7\u001b[0m         \u001b[0mc\u001b[0m \u001b[0;34m=\u001b[0m \u001b[0mC\u001b[0m\u001b[0;34m(\u001b[0m\u001b[0mF\u001b[0m\u001b[0;34m(\u001b[0m\u001b[0msrc\u001b[0m\u001b[0;34m)\u001b[0m\u001b[0;34m)\u001b[0m\u001b[0;34m\u001b[0m\u001b[0m\n",
      "\u001b[0;31mKeyboardInterrupt\u001b[0m: "
     ]
    }
   ],
   "source": [
    "for epoch in range(1, max_epoch+1):\n",
    "    for idx, (src_images, labels) in enumerate(svhn_loader):\n",
    "        tgt_images, _ = sample_mnist(step, n_batches)\n",
    "        # Training Discriminator\n",
    "        src, labels, tgt = src_images.to(DEVICE), labels.to(DEVICE), tgt_images.to(DEVICE)\n",
    "        \n",
    "        c = C(F(src))\n",
    "        Lc = xe(c, labels)\n",
    "        \n",
    "        F.zero_grad()\n",
    "        C.zero_grad()\n",
    "        \n",
    "        Lc.backward()\n",
    "        \n",
    "        C_opt.step()\n",
    "        F_opt.step()\n",
    "        \n",
    "        if step % 100 == 0:\n",
    "            dt = datetime.datetime.now().strftime('%H:%M:%S')\n",
    "            print('Epoch: {}/{}, Step: {}, C Loss: {:.4f} ---- {}'.format(epoch, max_epoch, step, Lc.item(), dt))\n",
    "            ll_c.append(Lc)\n",
    "        \n",
    "        if step % 500 == 0:\n",
    "            F.eval()\n",
    "            C.eval()\n",
    "            with torch.no_grad():\n",
    "                corrects = torch.zeros(1).to(DEVICE)\n",
    "                for idx, (src, labels) in enumerate(eval_loader):\n",
    "                    src, labels = src.to(DEVICE), labels.to(DEVICE)\n",
    "                    c = C(F(src))\n",
    "                    _, preds = torch.max(c, 1)\n",
    "                    corrects += (preds == labels).sum()\n",
    "                acc = corrects.item() / len(eval_loader.dataset)\n",
    "                print('***** Eval Result: {:.4f}, Step: {}'.format(acc, step))\n",
    "                \n",
    "                corrects = torch.zeros(1).to(DEVICE)\n",
    "                for idx, (tgt, labels) in enumerate(test_loader):\n",
    "                    tgt, labels = tgt.to(DEVICE), labels.to(DEVICE)\n",
    "                    c = C(F(tgt))\n",
    "                    _, preds = torch.max(c, 1)\n",
    "                    corrects += (preds == labels).sum()\n",
    "                acc = corrects.item() / len(test_loader.dataset)\n",
    "                print('***** Test Result: {:.4f}, Step: {}'.format(acc, step))\n",
    "                acc_lst.append(acc)\n",
    "                \n",
    "            F.train()\n",
    "            C.train()\n",
    "        step += 1"
   ]
  },
  {
   "cell_type": "markdown",
   "metadata": {
    "colab_type": "text",
    "id": "a8rIVAtx36C5"
   },
   "source": [
    "## Visualize Sample"
   ]
  },
  {
   "cell_type": "code",
   "execution_count": 30,
   "metadata": {
    "collapsed": true
   },
   "outputs": [],
   "source": [
    "import matplotlib.pyplot as plt"
   ]
  },
  {
   "cell_type": "code",
   "execution_count": 31,
   "metadata": {},
   "outputs": [
    {
     "data": {
      "text/plain": [
       "[<matplotlib.lines.Line2D at 0x7f0820033d68>]"
      ]
     },
     "execution_count": 31,
     "metadata": {},
     "output_type": "execute_result"
    },
    {
     "data": {
      "image/png": "[encoded data removed]",
      "text/plain": [
       "<matplotlib.figure.Figure at 0x7f0820029908>"
      ]
     },
     "metadata": {},
     "output_type": "display_data"
    }
   ],
   "source": [
    "plt.plot(range(len(ll_c)), ll_c)"
   ]
  },
  {
   "cell_type": "code",
   "execution_count": 32,
   "metadata": {
    "colab": {},
    "colab_type": "code",
    "id": "ZjunDavN36C_"
   },
   "outputs": [
    {
     "data": {
      "text/plain": [
       "[<matplotlib.lines.Line2D at 0x7f07d0c0bba8>]"
      ]
     },
     "execution_count": 32,
     "metadata": {},
     "output_type": "execute_result"
    },
    {
     "data": {
      "image/png": "[encoded data removed]",
      "text/plain": [
       "<matplotlib.figure.Figure at 0x7f08200296d8>"
      ]
     },
     "metadata": {},
     "output_type": "display_data"
    }
   ],
   "source": [
    "plt.plot(range(len(acc_lst)), acc_lst)"
   ]
  },
  {
   "cell_type": "code",
   "execution_count": 33,
   "metadata": {},
   "outputs": [
    {
     "data": {
      "text/plain": [
       "0.578"
      ]
     },
     "execution_count": 33,
     "metadata": {},
     "output_type": "execute_result"
    }
   ],
   "source": [
    "max(acc_lst)"
   ]
  },
  {
   "cell_type": "code",
   "execution_count": null,
   "metadata": {
    "collapsed": true
   },
   "outputs": [],
   "source": []
  },
  {
   "cell_type": "code",
   "execution_count": null,
   "metadata": {
    "collapsed": true
   },
   "outputs": [],
   "source": []
  }
 ],
 "metadata": {
  "accelerator": "GPU",
  "colab": {
   "collapsed_sections": [],
   "name": "DANN.ipynb",
   "provenance": [],
   "version": "0.3.2"
  },
  "kernelspec": {
   "display_name": "Python 3",
   "language": "python",
   "name": "python3"
  },
  "language_info": {
   "codemirror_mode": {
    "name": "ipython",
    "version": 3
   },
   "file_extension": ".py",
   "mimetype": "text/x-python",
   "name": "python",
   "nbconvert_exporter": "python",
   "pygments_lexer": "ipython3",
   "version": "3.6.3"
  }
 },
 "nbformat": 4,
 "nbformat_minor": 1
}
