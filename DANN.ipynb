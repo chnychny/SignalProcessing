{
 "cells": [
  {
   "cell_type": "markdown",
   "metadata": {
    "colab_type": "text",
    "id": "wCdWj_Ww36Bq"
   },
   "source": [
    "# Implementation of DANN\n",
    "Reference: https://arxiv.org/pdf/1505.07818.pdf"
   ]
  },
  {
   "cell_type": "code",
   "execution_count": 1,
   "metadata": {
    "ExecuteTime": {
     "end_time": "2022-05-25T02:26:04.340381Z",
     "start_time": "2022-05-25T02:26:03.941100Z"
    },
    "colab": {},
    "colab_type": "code",
    "id": "55U-5Nwk36Bw"
   },
   "outputs": [],
   "source": [
    "import torch\n",
    "import torchvision\n",
    "import torch.nn as nn"
   ]
  },
  {
   "cell_type": "code",
   "execution_count": 2,
   "metadata": {
    "ExecuteTime": {
     "end_time": "2022-05-25T02:26:04.355527Z",
     "start_time": "2022-05-25T02:26:04.341377Z"
    },
    "colab": {
     "base_uri": "https://localhost:8080/",
     "height": 35
    },
    "colab_type": "code",
    "id": "O5SHeDH24HnX",
    "outputId": "18ece497-0d25-4b69-e041-d280ca5ddc8e"
   },
   "outputs": [
    {
     "data": {
      "text/plain": [
       "'1.2.0'"
      ]
     },
     "execution_count": 2,
     "metadata": {},
     "output_type": "execute_result"
    }
   ],
   "source": [
    "torch.__version__"
   ]
  },
  {
   "cell_type": "code",
   "execution_count": 3,
   "metadata": {
    "ExecuteTime": {
     "end_time": "2022-05-25T02:26:04.371512Z",
     "start_time": "2022-05-25T02:26:04.356524Z"
    },
    "colab": {},
    "colab_type": "code",
    "id": "cGHr9W5o36Bz"
   },
   "outputs": [],
   "source": [
    "from torch.utils.data import DataLoader\n",
    "from torchvision import datasets\n",
    "from torchvision import transforms"
   ]
  },
  {
   "cell_type": "code",
   "execution_count": 4,
   "metadata": {
    "ExecuteTime": {
     "end_time": "2022-05-25T02:26:04.386742Z",
     "start_time": "2022-05-25T02:26:04.372481Z"
    },
    "colab": {},
    "colab_type": "code",
    "id": "3S7AK3Pa36B1"
   },
   "outputs": [],
   "source": [
    "import numpy as np\n",
    "import datetime\n",
    "import os, sys"
   ]
  },
  {
   "cell_type": "code",
   "execution_count": 5,
   "metadata": {
    "ExecuteTime": {
     "end_time": "2022-05-25T02:26:04.588800Z",
     "start_time": "2022-05-25T02:26:04.387712Z"
    },
    "colab": {},
    "colab_type": "code",
    "id": "iTNg8OmY36B4"
   },
   "outputs": [],
   "source": [
    "from matplotlib.pyplot import imshow, imsave\n",
    "%matplotlib inline"
   ]
  },
  {
   "cell_type": "code",
   "execution_count": 6,
   "metadata": {
    "ExecuteTime": {
     "end_time": "2022-05-25T02:26:04.634150Z",
     "start_time": "2022-05-25T02:26:04.589799Z"
    },
    "colab": {},
    "colab_type": "code",
    "id": "d_hVsBuF36B7"
   },
   "outputs": [
    {
     "name": "stdout",
     "output_type": "stream",
     "text": [
      "cuda\n"
     ]
    }
   ],
   "source": [
    "MODEL_NAME = 'DANN'\n",
    "DEVICE = torch.device(\"cuda\" if torch.cuda.is_available() else \"cpu\")\n",
    "print(DEVICE)"
   ]
  },
  {
   "cell_type": "code",
   "execution_count": 7,
   "metadata": {
    "ExecuteTime": {
     "end_time": "2022-05-25T02:26:04.649081Z",
     "start_time": "2022-05-25T02:26:04.639108Z"
    },
    "colab": {},
    "colab_type": "code",
    "id": "9OcpKYmx36CH"
   },
   "outputs": [],
   "source": [
    "class FeatureExtractor(nn.Module):\n",
    "    \"\"\"\n",
    "        Feature Extractor\n",
    "    \"\"\"\n",
    "    def __init__(self, in_channel=1, hidden_dims=512):\n",
    "        super(FeatureExtractor, self).__init__()\n",
    "        self.conv = nn.Sequential(\n",
    "            nn.Conv2d(in_channel, 64, 3, padding=1),\n",
    "            nn.BatchNorm2d(64),\n",
    "            nn.ReLU(inplace=True),\n",
    "            nn.Conv2d(64, 128, 3, padding=1),\n",
    "            nn.BatchNorm2d(128),\n",
    "            nn.ReLU(inplace=True),\n",
    "            nn.Conv2d(128, 256, 3, padding=1),\n",
    "            nn.BatchNorm2d(256),\n",
    "            nn.ReLU(inplace=True),\n",
    "            nn.Conv2d(256, 256, 3, padding=1),\n",
    "            nn.BatchNorm2d(256),\n",
    "            nn.ReLU(inplace=True),\n",
    "            nn.Conv2d(256, hidden_dims, 3, padding=1),\n",
    "            nn.BatchNorm2d(hidden_dims),\n",
    "            nn.ReLU(inplace=True),\n",
    "            nn.AdaptiveAvgPool2d((1,1)),\n",
    "        )\n",
    "        \n",
    "    def forward(self, x):\n",
    "        h = self.conv(x).squeeze() # (N, hidden_dims)\n",
    "        return h"
   ]
  },
  {
   "cell_type": "code",
   "execution_count": 8,
   "metadata": {
    "ExecuteTime": {
     "end_time": "2022-05-25T02:26:04.664754Z",
     "start_time": "2022-05-25T02:26:04.650079Z"
    },
    "colab": {},
    "colab_type": "code",
    "id": "c-1JVlFr95C8"
   },
   "outputs": [],
   "source": [
    "class Classifier(nn.Module):\n",
    "    \"\"\"\n",
    "        Classifier\n",
    "    \"\"\"\n",
    "    def __init__(self, input_size=512, num_classes=10):\n",
    "        super(Classifier, self).__init__()\n",
    "        self.layer = nn.Sequential(\n",
    "            nn.Linear(input_size, 256),\n",
    "            nn.ReLU(inplace=True),\n",
    "            nn.Linear(256, num_classes),\n",
    "        )\n",
    "        \n",
    "    def forward(self, h):\n",
    "        c = self.layer(h)\n",
    "        return c"
   ]
  },
  {
   "cell_type": "code",
   "execution_count": 9,
   "metadata": {
    "ExecuteTime": {
     "end_time": "2022-05-25T02:26:04.695676Z",
     "start_time": "2022-05-25T02:26:04.669748Z"
    },
    "colab": {},
    "colab_type": "code",
    "id": "CnxcDAu336CD"
   },
   "outputs": [],
   "source": [
    "class Discriminator(nn.Module):\n",
    "    \"\"\"\n",
    "        Simple Discriminator w/ MLP\n",
    "    \"\"\"\n",
    "    def __init__(self, input_size=512, num_classes=1):\n",
    "        super(Discriminator, self).__init__()\n",
    "        self.layer = nn.Sequential(\n",
    "            nn.Linear(input_size, 256),\n",
    "            nn.LeakyReLU(0.2),\n",
    "            nn.Linear(256, 128),\n",
    "            nn.LeakyReLU(0.2),\n",
    "            nn.Linear(128, num_classes),\n",
    "            nn.Sigmoid(),\n",
    "        )\n",
    "    \n",
    "    def forward(self, h):\n",
    "        y = self.layer(h)\n",
    "        return y"
   ]
  },
  {
   "cell_type": "code",
   "execution_count": 10,
   "metadata": {
    "ExecuteTime": {
     "end_time": "2022-05-25T02:26:06.008836Z",
     "start_time": "2022-05-25T02:26:04.697670Z"
    },
    "colab": {},
    "colab_type": "code",
    "id": "rmaidaPO36CQ"
   },
   "outputs": [],
   "source": [
    "F = FeatureExtractor().to(DEVICE)\n",
    "C = Classifier().to(DEVICE)\n",
    "D = Discriminator().to(DEVICE)"
   ]
  },
  {
   "cell_type": "code",
   "execution_count": 11,
   "metadata": {
    "ExecuteTime": {
     "end_time": "2022-05-25T02:26:06.024768Z",
     "start_time": "2022-05-25T02:26:06.009810Z"
    },
    "colab": {},
    "colab_type": "code",
    "id": "-zhMZpPc36CT"
   },
   "outputs": [],
   "source": [
    "transform = transforms.Compose([\n",
    "    transforms.Grayscale(1),\n",
    "    transforms.Resize(28),\n",
    "    transforms.ToTensor(),\n",
    "    transforms.Normalize(mean=[0.5],\n",
    "                         std=[0.5])\n",
    "])"
   ]
  },
  {
   "cell_type": "code",
   "execution_count": 12,
   "metadata": {
    "ExecuteTime": {
     "end_time": "2022-05-25T02:26:06.056683Z",
     "start_time": "2022-05-25T02:26:06.025791Z"
    },
    "colab": {},
    "colab_type": "code",
    "id": "dctQjVmy36CX"
   },
   "outputs": [],
   "source": [
    "mnist_train = datasets.MNIST(root='../data/', train=True, transform=transform, download=True)\n",
    "mnist_test = datasets.MNIST(root='../data/', train=False, transform=transform, download=True)"
   ]
  },
  {
   "cell_type": "code",
   "execution_count": 13,
   "metadata": {
    "ExecuteTime": {
     "end_time": "2022-05-25T02:28:48.877145Z",
     "start_time": "2022-05-25T02:26:06.057683Z"
    },
    "colab": {
     "base_uri": "https://localhost:8080/",
     "height": 53
    },
    "colab_type": "code",
    "id": "0GRgUyko4Yf8",
    "outputId": "8d5d6e2f-8a02-431f-80ef-f1f1583bc5b6",
    "scrolled": true
   },
   "outputs": [
    {
     "name": "stdout",
     "output_type": "stream",
     "text": [
      "Using downloaded and verified file: ../data/train_32x32.mat\n"
     ]
    },
    {
     "name": "stderr",
     "output_type": "stream",
     "text": [
      "\r",
      "0it [00:00, ?it/s]"
     ]
    },
    {
     "name": "stdout",
     "output_type": "stream",
     "text": [
      "Downloading http://ufldl.stanford.edu/housenumbers/test_32x32.mat to ../data/test_32x32.mat\n"
     ]
    },
    {
     "name": "stderr",
     "output_type": "stream",
     "text": [
      "100%|█████████████████████████████████████████████████████████████████▉| 64233472/64275384 [02:40<00:00, 515577.55it/s]"
     ]
    }
   ],
   "source": [
    "svhn_train = datasets.SVHN(root='../data/', split='train', transform=transform, download=True)\n",
    "svhn_test = datasets.SVHN(root='../data/', split='test', transform=transform, download=True)"
   ]
  },
  {
   "cell_type": "code",
   "execution_count": 14,
   "metadata": {
    "ExecuteTime": {
     "end_time": "2022-05-25T02:28:48.893078Z",
     "start_time": "2022-05-25T02:28:48.878118Z"
    },
    "colab": {},
    "colab_type": "code",
    "id": "k-yZsYK_36Ca"
   },
   "outputs": [],
   "source": [
    "batch_size = 64"
   ]
  },
  {
   "cell_type": "code",
   "execution_count": 15,
   "metadata": {
    "ExecuteTime": {
     "end_time": "2022-05-25T02:28:48.908463Z",
     "start_time": "2022-05-25T02:28:48.894075Z"
    },
    "colab": {
     "base_uri": "https://localhost:8080/",
     "height": 35
    },
    "colab_type": "code",
    "id": "Nf_BypcP62yb",
    "outputId": "840bf031-34c1-4e69-859d-1665f4a7b86e"
   },
   "outputs": [
    {
     "data": {
      "text/plain": [
       "(73257, 3, 32, 32)"
      ]
     },
     "execution_count": 15,
     "metadata": {},
     "output_type": "execute_result"
    }
   ],
   "source": [
    "svhn_train.data.shape"
   ]
  },
  {
   "cell_type": "code",
   "execution_count": 16,
   "metadata": {
    "ExecuteTime": {
     "end_time": "2022-05-25T02:28:48.924420Z",
     "start_time": "2022-05-25T02:28:48.909435Z"
    },
    "colab": {},
    "colab_type": "code",
    "id": "bNGJwRYq36Cc"
   },
   "outputs": [],
   "source": [
    "svhn_loader = DataLoader(dataset=svhn_train, batch_size=batch_size, shuffle=True, drop_last=True)\n",
    "mnist_loader = DataLoader(dataset=mnist_train, batch_size=batch_size, shuffle=True, drop_last=True)\n",
    "eval_loader = DataLoader(dataset=svhn_test, batch_size=batch_size, shuffle=False, drop_last=False)\n",
    "test_loader = DataLoader(dataset=mnist_test, batch_size=batch_size, shuffle=False, drop_last=False)"
   ]
  },
  {
   "cell_type": "code",
   "execution_count": 17,
   "metadata": {
    "ExecuteTime": {
     "end_time": "2022-05-25T02:28:48.940352Z",
     "start_time": "2022-05-25T02:28:48.925393Z"
    },
    "colab": {},
    "colab_type": "code",
    "id": "-BvTO5_CCoRj"
   },
   "outputs": [],
   "source": [
    "bce = nn.BCELoss()\n",
    "xe = nn.CrossEntropyLoss()"
   ]
  },
  {
   "cell_type": "code",
   "execution_count": 18,
   "metadata": {
    "ExecuteTime": {
     "end_time": "2022-05-25T02:28:48.956309Z",
     "start_time": "2022-05-25T02:28:48.941350Z"
    },
    "colab": {},
    "colab_type": "code",
    "id": "dx-hu7Kx36Ch"
   },
   "outputs": [],
   "source": [
    "F_opt = torch.optim.Adam(F.parameters())\n",
    "C_opt = torch.optim.Adam(C.parameters())\n",
    "D_opt = torch.optim.Adam(D.parameters())"
   ]
  },
  {
   "cell_type": "code",
   "execution_count": 19,
   "metadata": {
    "ExecuteTime": {
     "end_time": "2022-05-25T02:28:48.972292Z",
     "start_time": "2022-05-25T02:28:48.957308Z"
    },
    "colab": {},
    "colab_type": "code",
    "id": "UZ4BHnuu36Co"
   },
   "outputs": [],
   "source": [
    "max_epoch = 50\n",
    "step = 0\n",
    "n_critic = 1 # for training more k steps about Discriminator\n",
    "n_batches = len(mnist_train)//batch_size\n",
    "# lamda = 0.01"
   ]
  },
  {
   "cell_type": "code",
   "execution_count": 20,
   "metadata": {
    "ExecuteTime": {
     "end_time": "2022-05-25T02:28:49.035026Z",
     "start_time": "2022-05-25T02:28:48.973263Z"
    },
    "colab": {},
    "colab_type": "code",
    "id": "BUHf3Inf36Cs"
   },
   "outputs": [],
   "source": [
    "D_src = torch.ones(batch_size, 1).to(DEVICE) # Discriminator Label to real\n",
    "D_tgt = torch.zeros(batch_size, 1).to(DEVICE) # Discriminator Label to fake\n",
    "D_labels = torch.cat([D_src, D_tgt], dim=0)"
   ]
  },
  {
   "cell_type": "markdown",
   "metadata": {
    "colab_type": "text",
    "id": "uiCXVKq236Cz"
   },
   "source": [
    "### Training Code\n",
    "\n"
   ]
  },
  {
   "cell_type": "code",
   "execution_count": 21,
   "metadata": {
    "ExecuteTime": {
     "end_time": "2022-05-25T02:28:49.049985Z",
     "start_time": "2022-05-25T02:28:49.036023Z"
    },
    "colab": {},
    "colab_type": "code",
    "id": "AzcPZLsnUACQ"
   },
   "outputs": [],
   "source": [
    "def get_lambda(epoch, max_epoch):\n",
    "    p = epoch / max_epoch\n",
    "    return 2. / (1+np.exp(-10.*p)) - 1."
   ]
  },
  {
   "cell_type": "code",
   "execution_count": 22,
   "metadata": {
    "ExecuteTime": {
     "end_time": "2022-05-25T02:28:49.065624Z",
     "start_time": "2022-05-25T02:28:49.050985Z"
    },
    "colab": {},
    "colab_type": "code",
    "id": "KrX9TTe8BLLP"
   },
   "outputs": [],
   "source": [
    "mnist_set = iter(mnist_loader)\n",
    "\n",
    "def sample_mnist(step, n_batches):\n",
    "    global mnist_set\n",
    "    if step % n_batches == 0:\n",
    "        mnist_set = iter(mnist_loader)\n",
    "    return mnist_set.next()"
   ]
  },
  {
   "cell_type": "code",
   "execution_count": 23,
   "metadata": {
    "ExecuteTime": {
     "end_time": "2022-05-25T02:28:49.080584Z",
     "start_time": "2022-05-25T02:28:49.066621Z"
    }
   },
   "outputs": [],
   "source": [
    "ll_c, ll_d = [], []\n",
    "acc_lst = []"
   ]
  },
  {
   "cell_type": "code",
   "execution_count": 24,
   "metadata": {
    "ExecuteTime": {
     "end_time": "2022-05-25T03:48:30.658376Z",
     "start_time": "2022-05-25T02:28:49.081582Z"
    },
    "colab": {
     "base_uri": "https://localhost:8080/",
     "height": 1000
    },
    "colab_type": "code",
    "id": "Q_htVI_VFwJ3",
    "outputId": "d571460c-dff5-46c6-dffa-fbd7396aba16",
    "scrolled": true
   },
   "outputs": [
    {
     "name": "stdout",
     "output_type": "stream",
     "text": [
      "Epoch: 1/50, Step: 0, D Loss: 0.6145, C Loss: 2.3028, lambda: 0.0100 ---- 11:28:51\n",
      "***** Eval Result: 0.1539, Step: 0\n",
      "***** Test Result: 0.0982, Step: 0\n",
      "Epoch: 1/50, Step: 100, D Loss: 0.0023, C Loss: 2.2574, lambda: 0.0100 ---- 11:29:03\n"
     ]
    },
    {
     "name": "stderr",
     "output_type": "stream",
     "text": [
      "\r",
      "64282624it [03:00, 515577.55it/s]                                                                                      "
     ]
    },
    {
     "name": "stdout",
     "output_type": "stream",
     "text": [
      "Epoch: 1/50, Step: 200, D Loss: 0.0004, C Loss: 2.1938, lambda: 0.0100 ---- 11:29:10\n",
      "Epoch: 1/50, Step: 300, D Loss: 0.0099, C Loss: 2.2870, lambda: 0.0100 ---- 11:29:17\n",
      "Epoch: 1/50, Step: 400, D Loss: 0.0001, C Loss: 2.1227, lambda: 0.0100 ---- 11:29:24\n",
      "Epoch: 1/50, Step: 500, D Loss: 0.0000, C Loss: 2.1807, lambda: 0.0100 ---- 11:29:31\n",
      "***** Eval Result: 0.2752, Step: 500\n",
      "***** Test Result: 0.1135, Step: 500\n",
      "Epoch: 1/50, Step: 600, D Loss: 0.0001, C Loss: 2.2102, lambda: 0.0100 ---- 11:29:44\n",
      "Epoch: 1/50, Step: 700, D Loss: 0.0001, C Loss: 2.0543, lambda: 0.0100 ---- 11:29:51\n",
      "Epoch: 1/50, Step: 800, D Loss: 0.0000, C Loss: 1.9550, lambda: 0.0100 ---- 11:29:58\n",
      "Epoch: 1/50, Step: 900, D Loss: 0.0000, C Loss: 2.0347, lambda: 0.0100 ---- 11:30:05\n",
      "Epoch: 1/50, Step: 1000, D Loss: 0.0013, C Loss: 1.9212, lambda: 0.0100 ---- 11:30:12\n",
      "***** Eval Result: 0.3635, Step: 1000\n",
      "***** Test Result: 0.1993, Step: 1000\n",
      "Epoch: 1/50, Step: 1100, D Loss: 0.0000, C Loss: 1.8971, lambda: 0.0100 ---- 11:30:25\n",
      "Epoch: 2/50, Step: 1200, D Loss: 0.0000, C Loss: 1.7760, lambda: 0.0197 ---- 11:30:32\n",
      "Epoch: 2/50, Step: 1300, D Loss: 0.0000, C Loss: 1.6060, lambda: 0.0197 ---- 11:30:39\n",
      "Epoch: 2/50, Step: 1400, D Loss: 1.6514, C Loss: 1.6102, lambda: 0.0197 ---- 11:30:46\n",
      "Epoch: 2/50, Step: 1500, D Loss: 0.6137, C Loss: 1.5442, lambda: 0.0197 ---- 11:30:54\n",
      "***** Eval Result: 0.4211, Step: 1500\n",
      "***** Test Result: 0.1556, Step: 1500\n",
      "Epoch: 2/50, Step: 1600, D Loss: 0.6035, C Loss: 1.4205, lambda: 0.0197 ---- 11:31:07\n",
      "Epoch: 2/50, Step: 1700, D Loss: 0.6221, C Loss: 1.5194, lambda: 0.0197 ---- 11:31:14\n",
      "Epoch: 2/50, Step: 1800, D Loss: 0.5225, C Loss: 1.3239, lambda: 0.0197 ---- 11:31:21\n",
      "Epoch: 2/50, Step: 1900, D Loss: 0.5693, C Loss: 1.4813, lambda: 0.0197 ---- 11:31:28\n",
      "Epoch: 2/50, Step: 2000, D Loss: 0.6801, C Loss: 1.3806, lambda: 0.0197 ---- 11:31:35\n",
      "***** Eval Result: 0.5753, Step: 2000\n",
      "***** Test Result: 0.3010, Step: 2000\n",
      "Epoch: 2/50, Step: 2100, D Loss: 0.5380, C Loss: 1.1360, lambda: 0.0197 ---- 11:31:48\n",
      "Epoch: 2/50, Step: 2200, D Loss: 0.6345, C Loss: 0.9751, lambda: 0.0197 ---- 11:31:55\n",
      "Epoch: 3/50, Step: 2300, D Loss: 0.6067, C Loss: 1.2371, lambda: 0.0291 ---- 11:32:02\n",
      "Epoch: 3/50, Step: 2400, D Loss: 0.6485, C Loss: 0.9098, lambda: 0.0291 ---- 11:32:09\n",
      "Epoch: 3/50, Step: 2500, D Loss: 0.6965, C Loss: 1.0493, lambda: 0.0291 ---- 11:32:16\n",
      "***** Eval Result: 0.6858, Step: 2500\n",
      "***** Test Result: 0.3455, Step: 2500\n",
      "Epoch: 3/50, Step: 2600, D Loss: 0.6711, C Loss: 0.7079, lambda: 0.0291 ---- 11:32:29\n",
      "Epoch: 3/50, Step: 2700, D Loss: 0.5862, C Loss: 0.6794, lambda: 0.0291 ---- 11:32:37\n",
      "Epoch: 3/50, Step: 2800, D Loss: 0.6816, C Loss: 0.6066, lambda: 0.0291 ---- 11:32:44\n",
      "Epoch: 3/50, Step: 2900, D Loss: 0.6142, C Loss: 0.6700, lambda: 0.0291 ---- 11:32:51\n",
      "Epoch: 3/50, Step: 3000, D Loss: 0.6062, C Loss: 0.5145, lambda: 0.0291 ---- 11:32:58\n",
      "***** Eval Result: 0.7357, Step: 3000\n",
      "***** Test Result: 0.4122, Step: 3000\n",
      "Epoch: 3/50, Step: 3100, D Loss: 0.5661, C Loss: 0.7261, lambda: 0.0291 ---- 11:33:11\n",
      "Epoch: 3/50, Step: 3200, D Loss: 0.5264, C Loss: 0.8223, lambda: 0.0291 ---- 11:33:18\n",
      "Epoch: 3/50, Step: 3300, D Loss: 0.5929, C Loss: 0.7913, lambda: 0.0291 ---- 11:33:25\n",
      "Epoch: 3/50, Step: 3400, D Loss: 0.6423, C Loss: 0.5698, lambda: 0.0291 ---- 11:33:32\n",
      "Epoch: 4/50, Step: 3500, D Loss: 0.5413, C Loss: 0.6850, lambda: 0.0380 ---- 11:33:39\n",
      "***** Eval Result: 0.7844, Step: 3500\n",
      "***** Test Result: 0.3957, Step: 3500\n",
      "Epoch: 4/50, Step: 3600, D Loss: 0.4606, C Loss: 0.3307, lambda: 0.0380 ---- 11:33:53\n",
      "Epoch: 4/50, Step: 3700, D Loss: 0.5563, C Loss: 0.8461, lambda: 0.0380 ---- 11:34:00\n",
      "Epoch: 4/50, Step: 3800, D Loss: 0.6720, C Loss: 0.5408, lambda: 0.0380 ---- 11:34:07\n",
      "Epoch: 4/50, Step: 3900, D Loss: 0.4796, C Loss: 0.4606, lambda: 0.0380 ---- 11:34:14\n",
      "Epoch: 4/50, Step: 4000, D Loss: 0.5910, C Loss: 0.4535, lambda: 0.0380 ---- 11:34:21\n",
      "***** Eval Result: 0.8410, Step: 4000\n",
      "***** Test Result: 0.4312, Step: 4000\n",
      "Epoch: 4/50, Step: 4100, D Loss: 0.5152, C Loss: 0.6124, lambda: 0.0380 ---- 11:34:34\n",
      "Epoch: 4/50, Step: 4200, D Loss: 0.5560, C Loss: 0.6460, lambda: 0.0380 ---- 11:34:41\n",
      "Epoch: 4/50, Step: 4300, D Loss: 0.5765, C Loss: 0.7325, lambda: 0.0380 ---- 11:34:49\n",
      "Epoch: 4/50, Step: 4400, D Loss: 0.5687, C Loss: 0.3840, lambda: 0.0380 ---- 11:34:56\n",
      "Epoch: 4/50, Step: 4500, D Loss: 0.6988, C Loss: 0.5548, lambda: 0.0380 ---- 11:35:03\n",
      "***** Eval Result: 0.8379, Step: 4500\n",
      "***** Test Result: 0.4781, Step: 4500\n",
      "Epoch: 5/50, Step: 4600, D Loss: 0.4756, C Loss: 0.6845, lambda: 0.0462 ---- 11:35:16\n",
      "Epoch: 5/50, Step: 4700, D Loss: 0.4929, C Loss: 0.5176, lambda: 0.0462 ---- 11:35:23\n",
      "Epoch: 5/50, Step: 4800, D Loss: 0.5726, C Loss: 0.4252, lambda: 0.0462 ---- 11:35:30\n",
      "Epoch: 5/50, Step: 4900, D Loss: 0.7280, C Loss: 0.5174, lambda: 0.0462 ---- 11:35:38\n",
      "Epoch: 5/50, Step: 5000, D Loss: 0.6619, C Loss: 0.3773, lambda: 0.0462 ---- 11:35:45\n",
      "***** Eval Result: 0.8112, Step: 5000\n",
      "***** Test Result: 0.4385, Step: 5000\n",
      "Epoch: 5/50, Step: 5100, D Loss: 0.4272, C Loss: 0.7360, lambda: 0.0462 ---- 11:35:58\n",
      "Epoch: 5/50, Step: 5200, D Loss: 0.5497, C Loss: 0.6090, lambda: 0.0462 ---- 11:36:05\n",
      "Epoch: 5/50, Step: 5300, D Loss: 0.5681, C Loss: 0.3912, lambda: 0.0462 ---- 11:36:12\n",
      "Epoch: 5/50, Step: 5400, D Loss: 0.5479, C Loss: 0.5615, lambda: 0.0462 ---- 11:36:19\n",
      "Epoch: 5/50, Step: 5500, D Loss: 0.4258, C Loss: 0.4360, lambda: 0.0462 ---- 11:36:26\n",
      "***** Eval Result: 0.8580, Step: 5500\n",
      "***** Test Result: 0.5552, Step: 5500\n",
      "Epoch: 5/50, Step: 5600, D Loss: 0.6484, C Loss: 0.6907, lambda: 0.0462 ---- 11:36:40\n",
      "Epoch: 5/50, Step: 5700, D Loss: 0.6567, C Loss: 0.4675, lambda: 0.0462 ---- 11:36:47\n",
      "Epoch: 6/50, Step: 5800, D Loss: 0.6057, C Loss: 0.3855, lambda: 0.0537 ---- 11:36:54\n",
      "Epoch: 6/50, Step: 5900, D Loss: 0.5677, C Loss: 0.3948, lambda: 0.0537 ---- 11:37:02\n",
      "Epoch: 6/50, Step: 6000, D Loss: 0.6475, C Loss: 0.3574, lambda: 0.0537 ---- 11:37:09\n",
      "***** Eval Result: 0.8848, Step: 6000\n",
      "***** Test Result: 0.5407, Step: 6000\n",
      "Epoch: 6/50, Step: 6100, D Loss: 0.6090, C Loss: 0.2856, lambda: 0.0537 ---- 11:37:22\n",
      "Epoch: 6/50, Step: 6200, D Loss: 0.6925, C Loss: 0.4992, lambda: 0.0537 ---- 11:37:29\n",
      "Epoch: 6/50, Step: 6300, D Loss: 0.6300, C Loss: 0.4527, lambda: 0.0537 ---- 11:37:37\n",
      "Epoch: 6/50, Step: 6400, D Loss: 0.7394, C Loss: 0.3858, lambda: 0.0537 ---- 11:37:44\n",
      "Epoch: 6/50, Step: 6500, D Loss: 0.6671, C Loss: 0.5455, lambda: 0.0537 ---- 11:37:51\n",
      "***** Eval Result: 0.8925, Step: 6500\n",
      "***** Test Result: 0.5558, Step: 6500\n",
      "Epoch: 6/50, Step: 6600, D Loss: 0.6616, C Loss: 0.4799, lambda: 0.0537 ---- 11:38:04\n",
      "Epoch: 6/50, Step: 6700, D Loss: 0.5721, C Loss: 0.2939, lambda: 0.0537 ---- 11:38:12\n",
      "Epoch: 6/50, Step: 6800, D Loss: 0.5722, C Loss: 0.2910, lambda: 0.0537 ---- 11:38:19\n",
      "Epoch: 7/50, Step: 6900, D Loss: 0.6683, C Loss: 0.3426, lambda: 0.0604 ---- 11:38:26\n",
      "Epoch: 7/50, Step: 7000, D Loss: 0.8856, C Loss: 0.4349, lambda: 0.0604 ---- 11:38:33\n",
      "***** Eval Result: 0.8921, Step: 7000\n",
      "***** Test Result: 0.5024, Step: 7000\n",
      "Epoch: 7/50, Step: 7100, D Loss: 0.6166, C Loss: 0.6445, lambda: 0.0604 ---- 11:38:46\n",
      "Epoch: 7/50, Step: 7200, D Loss: 0.6035, C Loss: 0.4083, lambda: 0.0604 ---- 11:38:53\n",
      "Epoch: 7/50, Step: 7300, D Loss: 0.6235, C Loss: 0.3480, lambda: 0.0604 ---- 11:39:00\n",
      "Epoch: 7/50, Step: 7400, D Loss: 0.5905, C Loss: 0.2429, lambda: 0.0604 ---- 11:39:08\n",
      "Epoch: 7/50, Step: 7500, D Loss: 0.6720, C Loss: 0.2211, lambda: 0.0604 ---- 11:39:15\n",
      "***** Eval Result: 0.8856, Step: 7500\n",
      "***** Test Result: 0.5123, Step: 7500\n",
      "Epoch: 7/50, Step: 7600, D Loss: 0.7705, C Loss: 0.2076, lambda: 0.0604 ---- 11:39:28\n",
      "Epoch: 7/50, Step: 7700, D Loss: 0.5279, C Loss: 0.2742, lambda: 0.0604 ---- 11:39:35\n",
      "Epoch: 7/50, Step: 7800, D Loss: 0.6099, C Loss: 0.3890, lambda: 0.0604 ---- 11:39:42\n",
      "Epoch: 7/50, Step: 7900, D Loss: 0.7026, C Loss: 0.4413, lambda: 0.0604 ---- 11:39:49\n",
      "Epoch: 7/50, Step: 8000, D Loss: 0.5183, C Loss: 0.3258, lambda: 0.0604 ---- 11:39:57\n",
      "***** Eval Result: 0.8757, Step: 8000\n",
      "***** Test Result: 0.4747, Step: 8000\n",
      "Epoch: 8/50, Step: 8100, D Loss: 0.5315, C Loss: 0.1285, lambda: 0.0664 ---- 11:40:10\n",
      "Epoch: 8/50, Step: 8200, D Loss: 0.2326, C Loss: 0.2928, lambda: 0.0664 ---- 11:40:17\n",
      "Epoch: 8/50, Step: 8300, D Loss: 0.4524, C Loss: 0.3960, lambda: 0.0664 ---- 11:40:24\n"
     ]
    },
    {
     "name": "stdout",
     "output_type": "stream",
     "text": [
      "Epoch: 8/50, Step: 8400, D Loss: 0.6793, C Loss: 0.2374, lambda: 0.0664 ---- 11:40:31\n",
      "Epoch: 8/50, Step: 8500, D Loss: 0.7371, C Loss: 0.2509, lambda: 0.0664 ---- 11:40:38\n",
      "***** Eval Result: 0.8993, Step: 8500\n",
      "***** Test Result: 0.5411, Step: 8500\n",
      "Epoch: 8/50, Step: 8600, D Loss: 0.7608, C Loss: 0.4251, lambda: 0.0664 ---- 11:40:52\n",
      "Epoch: 8/50, Step: 8700, D Loss: 0.6934, C Loss: 0.2622, lambda: 0.0664 ---- 11:40:59\n",
      "Epoch: 8/50, Step: 8800, D Loss: 0.6661, C Loss: 0.3548, lambda: 0.0664 ---- 11:41:06\n",
      "Epoch: 8/50, Step: 8900, D Loss: 0.6183, C Loss: 0.3792, lambda: 0.0664 ---- 11:41:13\n",
      "Epoch: 8/50, Step: 9000, D Loss: 0.6186, C Loss: 0.2351, lambda: 0.0664 ---- 11:41:20\n",
      "***** Eval Result: 0.8986, Step: 9000\n",
      "***** Test Result: 0.6044, Step: 9000\n",
      "Epoch: 8/50, Step: 9100, D Loss: 0.6928, C Loss: 0.3497, lambda: 0.0664 ---- 11:41:34\n",
      "Epoch: 9/50, Step: 9200, D Loss: 0.6599, C Loss: 0.2663, lambda: 0.0716 ---- 11:41:41\n",
      "Epoch: 9/50, Step: 9300, D Loss: 0.6461, C Loss: 0.2791, lambda: 0.0716 ---- 11:41:48\n",
      "Epoch: 9/50, Step: 9400, D Loss: 0.6491, C Loss: 0.1834, lambda: 0.0716 ---- 11:41:55\n",
      "Epoch: 9/50, Step: 9500, D Loss: 0.5932, C Loss: 0.2352, lambda: 0.0716 ---- 11:42:02\n",
      "***** Eval Result: 0.9065, Step: 9500\n",
      "***** Test Result: 0.5856, Step: 9500\n",
      "Epoch: 9/50, Step: 9600, D Loss: 0.6748, C Loss: 0.3428, lambda: 0.0716 ---- 11:42:15\n",
      "Epoch: 9/50, Step: 9700, D Loss: 0.5782, C Loss: 0.4756, lambda: 0.0716 ---- 11:42:22\n",
      "Epoch: 9/50, Step: 9800, D Loss: 0.6695, C Loss: 0.2318, lambda: 0.0716 ---- 11:42:30\n",
      "Epoch: 9/50, Step: 9900, D Loss: 0.8393, C Loss: 0.3863, lambda: 0.0716 ---- 11:42:37\n",
      "Epoch: 9/50, Step: 10000, D Loss: 0.6080, C Loss: 0.6888, lambda: 0.0716 ---- 11:42:44\n",
      "***** Eval Result: 0.8986, Step: 10000\n",
      "***** Test Result: 0.5990, Step: 10000\n",
      "Epoch: 9/50, Step: 10100, D Loss: 0.6392, C Loss: 0.3683, lambda: 0.0716 ---- 11:42:57\n",
      "Epoch: 9/50, Step: 10200, D Loss: 0.6721, C Loss: 0.2706, lambda: 0.0716 ---- 11:43:04\n",
      "Epoch: 10/50, Step: 10300, D Loss: 0.6463, C Loss: 0.2952, lambda: 0.0762 ---- 11:43:11\n",
      "Epoch: 10/50, Step: 10400, D Loss: 0.8180, C Loss: 0.2115, lambda: 0.0762 ---- 11:43:19\n",
      "Epoch: 10/50, Step: 10500, D Loss: 0.6700, C Loss: 0.1469, lambda: 0.0762 ---- 11:43:26\n",
      "***** Eval Result: 0.9108, Step: 10500\n",
      "***** Test Result: 0.6545, Step: 10500\n",
      "Epoch: 10/50, Step: 10600, D Loss: 0.6218, C Loss: 0.2674, lambda: 0.0762 ---- 11:43:39\n",
      "Epoch: 10/50, Step: 10700, D Loss: 0.6066, C Loss: 0.2232, lambda: 0.0762 ---- 11:43:46\n",
      "Epoch: 10/50, Step: 10800, D Loss: 0.6204, C Loss: 0.2781, lambda: 0.0762 ---- 11:43:53\n",
      "Epoch: 10/50, Step: 10900, D Loss: 0.7314, C Loss: 0.1651, lambda: 0.0762 ---- 11:44:00\n",
      "Epoch: 10/50, Step: 11000, D Loss: 0.7384, C Loss: 0.3658, lambda: 0.0762 ---- 11:44:08\n",
      "***** Eval Result: 0.9120, Step: 11000\n",
      "***** Test Result: 0.6250, Step: 11000\n",
      "Epoch: 10/50, Step: 11100, D Loss: 0.5853, C Loss: 0.2817, lambda: 0.0762 ---- 11:44:21\n",
      "Epoch: 10/50, Step: 11200, D Loss: 0.3346, C Loss: 0.3388, lambda: 0.0762 ---- 11:44:28\n",
      "Epoch: 10/50, Step: 11300, D Loss: 0.1104, C Loss: 0.3251, lambda: 0.0762 ---- 11:44:35\n",
      "Epoch: 10/50, Step: 11400, D Loss: 0.8711, C Loss: 0.3922, lambda: 0.0762 ---- 11:44:42\n",
      "Epoch: 11/50, Step: 11500, D Loss: 0.6655, C Loss: 0.3986, lambda: 0.0800 ---- 11:44:49\n",
      "***** Eval Result: 0.9094, Step: 11500\n",
      "***** Test Result: 0.6376, Step: 11500\n",
      "Epoch: 11/50, Step: 11600, D Loss: 0.6889, C Loss: 0.5128, lambda: 0.0800 ---- 11:45:03\n",
      "Epoch: 11/50, Step: 11700, D Loss: 0.6623, C Loss: 0.3044, lambda: 0.0800 ---- 11:45:10\n",
      "Epoch: 11/50, Step: 11800, D Loss: 0.7633, C Loss: 0.3110, lambda: 0.0800 ---- 11:45:17\n",
      "Epoch: 11/50, Step: 11900, D Loss: 0.6055, C Loss: 0.2459, lambda: 0.0800 ---- 11:45:24\n",
      "Epoch: 11/50, Step: 12000, D Loss: 0.5635, C Loss: 0.3214, lambda: 0.0800 ---- 11:45:31\n",
      "***** Eval Result: 0.9235, Step: 12000\n",
      "***** Test Result: 0.6335, Step: 12000\n",
      "Epoch: 11/50, Step: 12100, D Loss: 0.6518, C Loss: 0.3006, lambda: 0.0800 ---- 11:45:44\n",
      "Epoch: 11/50, Step: 12200, D Loss: 0.6675, C Loss: 0.1830, lambda: 0.0800 ---- 11:45:52\n",
      "Epoch: 11/50, Step: 12300, D Loss: 0.5938, C Loss: 0.3352, lambda: 0.0800 ---- 11:45:59\n",
      "Epoch: 11/50, Step: 12400, D Loss: 0.6612, C Loss: 0.2682, lambda: 0.0800 ---- 11:46:06\n",
      "Epoch: 11/50, Step: 12500, D Loss: 0.6591, C Loss: 0.1149, lambda: 0.0800 ---- 11:46:13\n",
      "***** Eval Result: 0.9084, Step: 12500\n",
      "***** Test Result: 0.6022, Step: 12500\n",
      "Epoch: 12/50, Step: 12600, D Loss: 0.6374, C Loss: 0.1433, lambda: 0.0834 ---- 11:46:26\n",
      "Epoch: 12/50, Step: 12700, D Loss: 0.7528, C Loss: 0.3068, lambda: 0.0834 ---- 11:46:33\n",
      "Epoch: 12/50, Step: 12800, D Loss: 0.6950, C Loss: 0.1398, lambda: 0.0834 ---- 11:46:41\n",
      "Epoch: 12/50, Step: 12900, D Loss: 0.7025, C Loss: 0.1446, lambda: 0.0834 ---- 11:46:48\n",
      "Epoch: 12/50, Step: 13000, D Loss: 0.7625, C Loss: 0.3720, lambda: 0.0834 ---- 11:46:55\n",
      "***** Eval Result: 0.9218, Step: 13000\n",
      "***** Test Result: 0.6118, Step: 13000\n",
      "Epoch: 12/50, Step: 13100, D Loss: 0.7216, C Loss: 0.2924, lambda: 0.0834 ---- 11:47:08\n",
      "Epoch: 12/50, Step: 13200, D Loss: 1.0011, C Loss: 0.3060, lambda: 0.0834 ---- 11:47:15\n",
      "Epoch: 12/50, Step: 13300, D Loss: 0.6168, C Loss: 0.3069, lambda: 0.0834 ---- 11:47:22\n",
      "Epoch: 12/50, Step: 13400, D Loss: 0.6759, C Loss: 0.1978, lambda: 0.0834 ---- 11:47:30\n",
      "Epoch: 12/50, Step: 13500, D Loss: 0.6568, C Loss: 0.2391, lambda: 0.0834 ---- 11:47:37\n",
      "***** Eval Result: 0.9247, Step: 13500\n",
      "***** Test Result: 0.6335, Step: 13500\n",
      "Epoch: 12/50, Step: 13600, D Loss: 0.6403, C Loss: 0.2373, lambda: 0.0834 ---- 11:47:50\n",
      "Epoch: 12/50, Step: 13700, D Loss: 0.7408, C Loss: 0.2929, lambda: 0.0834 ---- 11:47:57\n",
      "Epoch: 13/50, Step: 13800, D Loss: 0.6792, C Loss: 0.0653, lambda: 0.0862 ---- 11:48:04\n",
      "Epoch: 13/50, Step: 13900, D Loss: 0.5610, C Loss: 0.9646, lambda: 0.0862 ---- 11:48:11\n",
      "Epoch: 13/50, Step: 14000, D Loss: 0.1364, C Loss: 0.7912, lambda: 0.0862 ---- 11:48:18\n",
      "***** Eval Result: 0.7657, Step: 14000\n",
      "***** Test Result: 0.5140, Step: 14000\n",
      "Epoch: 13/50, Step: 14100, D Loss: 0.0028, C Loss: 0.7715, lambda: 0.0862 ---- 11:48:32\n",
      "Epoch: 13/50, Step: 14200, D Loss: 0.0090, C Loss: 0.5632, lambda: 0.0862 ---- 11:48:39\n",
      "Epoch: 13/50, Step: 14300, D Loss: 0.3065, C Loss: 0.4011, lambda: 0.0862 ---- 11:48:46\n",
      "Epoch: 13/50, Step: 14400, D Loss: 2.1319, C Loss: 0.7673, lambda: 0.0862 ---- 11:48:53\n",
      "Epoch: 13/50, Step: 14500, D Loss: 0.0299, C Loss: 0.4843, lambda: 0.0862 ---- 11:49:00\n",
      "***** Eval Result: 0.8264, Step: 14500\n",
      "***** Test Result: 0.5720, Step: 14500\n",
      "Epoch: 13/50, Step: 14600, D Loss: 0.0188, C Loss: 0.3533, lambda: 0.0862 ---- 11:49:13\n",
      "Epoch: 13/50, Step: 14700, D Loss: 0.0034, C Loss: 0.4031, lambda: 0.0862 ---- 11:49:21\n",
      "Epoch: 13/50, Step: 14800, D Loss: 3.4702, C Loss: 0.5736, lambda: 0.0862 ---- 11:49:28\n",
      "Epoch: 14/50, Step: 14900, D Loss: 1.2128, C Loss: 0.5042, lambda: 0.0885 ---- 11:49:35\n",
      "Epoch: 14/50, Step: 15000, D Loss: 0.2692, C Loss: 0.6266, lambda: 0.0885 ---- 11:49:42\n",
      "***** Eval Result: 0.8503, Step: 15000\n",
      "***** Test Result: 0.5265, Step: 15000\n",
      "Epoch: 14/50, Step: 15100, D Loss: 0.1391, C Loss: 0.6924, lambda: 0.0885 ---- 11:49:55\n",
      "Epoch: 14/50, Step: 15200, D Loss: 0.0284, C Loss: 0.2565, lambda: 0.0885 ---- 11:50:02\n",
      "Epoch: 14/50, Step: 15300, D Loss: 1.9476, C Loss: 0.3835, lambda: 0.0885 ---- 11:50:10\n",
      "Epoch: 14/50, Step: 15400, D Loss: 0.0396, C Loss: 0.7642, lambda: 0.0885 ---- 11:50:17\n",
      "Epoch: 14/50, Step: 15500, D Loss: 0.8514, C Loss: 0.4240, lambda: 0.0885 ---- 11:50:24\n",
      "***** Eval Result: 0.8465, Step: 15500\n",
      "***** Test Result: 0.5759, Step: 15500\n",
      "Epoch: 14/50, Step: 15600, D Loss: 0.1755, C Loss: 0.4660, lambda: 0.0885 ---- 11:50:37\n",
      "Epoch: 14/50, Step: 15700, D Loss: 0.0103, C Loss: 0.5421, lambda: 0.0885 ---- 11:50:44\n",
      "Epoch: 14/50, Step: 15800, D Loss: 0.3278, C Loss: 0.4663, lambda: 0.0885 ---- 11:50:51\n",
      "Epoch: 14/50, Step: 15900, D Loss: 0.4903, C Loss: 0.4862, lambda: 0.0885 ---- 11:50:58\n",
      "Epoch: 14/50, Step: 16000, D Loss: 0.3547, C Loss: 0.4747, lambda: 0.0885 ---- 11:51:06\n",
      "***** Eval Result: 0.8737, Step: 16000\n",
      "***** Test Result: 0.5648, Step: 16000\n",
      "Epoch: 15/50, Step: 16100, D Loss: 0.1884, C Loss: 0.3503, lambda: 0.0905 ---- 11:51:19\n",
      "Epoch: 15/50, Step: 16200, D Loss: 0.7114, C Loss: 0.5657, lambda: 0.0905 ---- 11:51:26\n",
      "Epoch: 15/50, Step: 16300, D Loss: 0.4156, C Loss: 0.4076, lambda: 0.0905 ---- 11:51:33\n"
     ]
    },
    {
     "name": "stdout",
     "output_type": "stream",
     "text": [
      "Epoch: 15/50, Step: 16400, D Loss: 0.0734, C Loss: 0.4773, lambda: 0.0905 ---- 11:51:40\n",
      "Epoch: 15/50, Step: 16500, D Loss: 0.0803, C Loss: 0.4124, lambda: 0.0905 ---- 11:51:47\n",
      "***** Eval Result: 0.8699, Step: 16500\n",
      "***** Test Result: 0.4909, Step: 16500\n",
      "Epoch: 15/50, Step: 16600, D Loss: 0.0453, C Loss: 0.4870, lambda: 0.0905 ---- 11:52:01\n",
      "Epoch: 15/50, Step: 16700, D Loss: 0.6633, C Loss: 0.3817, lambda: 0.0905 ---- 11:52:08\n",
      "Epoch: 15/50, Step: 16800, D Loss: 0.1507, C Loss: 0.4656, lambda: 0.0905 ---- 11:52:15\n",
      "Epoch: 15/50, Step: 16900, D Loss: 0.3189, C Loss: 0.4110, lambda: 0.0905 ---- 11:52:22\n",
      "Epoch: 15/50, Step: 17000, D Loss: 0.4981, C Loss: 0.2704, lambda: 0.0905 ---- 11:52:29\n",
      "***** Eval Result: 0.8929, Step: 17000\n",
      "***** Test Result: 0.5601, Step: 17000\n",
      "Epoch: 15/50, Step: 17100, D Loss: 0.4410, C Loss: 0.3601, lambda: 0.0905 ---- 11:52:42\n",
      "Epoch: 16/50, Step: 17200, D Loss: 0.1844, C Loss: 0.3995, lambda: 0.0922 ---- 11:52:50\n",
      "Epoch: 16/50, Step: 17300, D Loss: 1.3710, C Loss: 0.2307, lambda: 0.0922 ---- 11:52:57\n",
      "Epoch: 16/50, Step: 17400, D Loss: 0.1110, C Loss: 0.4301, lambda: 0.0922 ---- 11:53:04\n",
      "Epoch: 16/50, Step: 17500, D Loss: 0.9119, C Loss: 0.5468, lambda: 0.0922 ---- 11:53:11\n",
      "***** Eval Result: 0.8308, Step: 17500\n",
      "***** Test Result: 0.4619, Step: 17500\n",
      "Epoch: 16/50, Step: 17600, D Loss: 0.1039, C Loss: 0.2935, lambda: 0.0922 ---- 11:53:24\n",
      "Epoch: 16/50, Step: 17700, D Loss: 0.1647, C Loss: 0.2724, lambda: 0.0922 ---- 11:53:31\n",
      "Epoch: 16/50, Step: 17800, D Loss: 0.6417, C Loss: 0.3659, lambda: 0.0922 ---- 11:53:38\n",
      "Epoch: 16/50, Step: 17900, D Loss: 0.8978, C Loss: 0.4340, lambda: 0.0922 ---- 11:53:46\n",
      "Epoch: 16/50, Step: 18000, D Loss: 0.5976, C Loss: 0.3462, lambda: 0.0922 ---- 11:53:53\n",
      "***** Eval Result: 0.8909, Step: 18000\n",
      "***** Test Result: 0.5500, Step: 18000\n",
      "Epoch: 16/50, Step: 18100, D Loss: 0.4223, C Loss: 0.3729, lambda: 0.0922 ---- 11:54:06\n",
      "Epoch: 16/50, Step: 18200, D Loss: 0.9816, C Loss: 0.1859, lambda: 0.0922 ---- 11:54:13\n",
      "Epoch: 16/50, Step: 18300, D Loss: 0.3737, C Loss: 0.2929, lambda: 0.0922 ---- 11:54:20\n",
      "Epoch: 17/50, Step: 18400, D Loss: 2.0070, C Loss: 0.2388, lambda: 0.0935 ---- 11:54:27\n",
      "Epoch: 17/50, Step: 18500, D Loss: 0.4781, C Loss: 0.4141, lambda: 0.0935 ---- 11:54:34\n",
      "***** Eval Result: 0.8778, Step: 18500\n",
      "***** Test Result: 0.4213, Step: 18500\n",
      "Epoch: 17/50, Step: 18600, D Loss: 0.8703, C Loss: 0.2895, lambda: 0.0935 ---- 11:54:48\n",
      "Epoch: 17/50, Step: 18700, D Loss: 0.4313, C Loss: 0.4197, lambda: 0.0935 ---- 11:54:55\n",
      "Epoch: 17/50, Step: 18800, D Loss: 0.3880, C Loss: 0.4106, lambda: 0.0935 ---- 11:55:02\n",
      "Epoch: 17/50, Step: 18900, D Loss: 0.5744, C Loss: 0.4123, lambda: 0.0935 ---- 11:55:09\n",
      "Epoch: 17/50, Step: 19000, D Loss: 1.4270, C Loss: 0.2882, lambda: 0.0935 ---- 11:55:16\n",
      "***** Eval Result: 0.8973, Step: 19000\n",
      "***** Test Result: 0.4861, Step: 19000\n",
      "Epoch: 17/50, Step: 19100, D Loss: 0.2769, C Loss: 0.3681, lambda: 0.0935 ---- 11:55:29\n",
      "Epoch: 17/50, Step: 19200, D Loss: 1.6927, C Loss: 0.4316, lambda: 0.0935 ---- 11:55:37\n",
      "Epoch: 17/50, Step: 19300, D Loss: 0.4731, C Loss: 0.2546, lambda: 0.0935 ---- 11:55:44\n",
      "Epoch: 17/50, Step: 19400, D Loss: 1.1127, C Loss: 0.3223, lambda: 0.0935 ---- 11:55:51\n",
      "Epoch: 18/50, Step: 19500, D Loss: 0.5647, C Loss: 0.3953, lambda: 0.0947 ---- 11:55:58\n",
      "***** Eval Result: 0.8600, Step: 19500\n",
      "***** Test Result: 0.5106, Step: 19500\n",
      "Epoch: 18/50, Step: 19600, D Loss: 0.6646, C Loss: 0.1397, lambda: 0.0947 ---- 11:56:11\n",
      "Epoch: 18/50, Step: 19700, D Loss: 0.4928, C Loss: 0.2016, lambda: 0.0947 ---- 11:56:18\n",
      "Epoch: 18/50, Step: 19800, D Loss: 0.5601, C Loss: 0.2107, lambda: 0.0947 ---- 11:56:25\n",
      "Epoch: 18/50, Step: 19900, D Loss: 0.7273, C Loss: 0.4045, lambda: 0.0947 ---- 11:56:33\n",
      "Epoch: 18/50, Step: 20000, D Loss: 0.6055, C Loss: 0.2211, lambda: 0.0947 ---- 11:56:40\n",
      "***** Eval Result: 0.9056, Step: 20000\n",
      "***** Test Result: 0.5125, Step: 20000\n",
      "Epoch: 18/50, Step: 20100, D Loss: 0.9433, C Loss: 0.1454, lambda: 0.0947 ---- 11:56:53\n",
      "Epoch: 18/50, Step: 20200, D Loss: 1.1095, C Loss: 0.3971, lambda: 0.0947 ---- 11:57:00\n",
      "Epoch: 18/50, Step: 20300, D Loss: 0.4348, C Loss: 0.2311, lambda: 0.0947 ---- 11:57:07\n",
      "Epoch: 18/50, Step: 20400, D Loss: 0.6134, C Loss: 0.2446, lambda: 0.0947 ---- 11:57:14\n",
      "Epoch: 18/50, Step: 20500, D Loss: 0.5662, C Loss: 0.3030, lambda: 0.0947 ---- 11:57:21\n",
      "***** Eval Result: 0.8971, Step: 20500\n",
      "***** Test Result: 0.5282, Step: 20500\n",
      "Epoch: 19/50, Step: 20600, D Loss: 0.5567, C Loss: 0.2719, lambda: 0.0956 ---- 11:57:35\n",
      "Epoch: 19/50, Step: 20700, D Loss: 0.3816, C Loss: 0.1540, lambda: 0.0956 ---- 11:57:42\n",
      "Epoch: 19/50, Step: 20800, D Loss: 1.9324, C Loss: 0.2910, lambda: 0.0956 ---- 11:57:49\n",
      "Epoch: 19/50, Step: 20900, D Loss: 0.0662, C Loss: 0.2847, lambda: 0.0956 ---- 11:57:56\n",
      "Epoch: 19/50, Step: 21000, D Loss: 1.7840, C Loss: 0.1689, lambda: 0.0956 ---- 11:58:03\n",
      "***** Eval Result: 0.8905, Step: 21000\n",
      "***** Test Result: 0.4675, Step: 21000\n",
      "Epoch: 19/50, Step: 21100, D Loss: 0.4545, C Loss: 0.6017, lambda: 0.0956 ---- 11:58:16\n",
      "Epoch: 19/50, Step: 21200, D Loss: 0.0689, C Loss: 0.4863, lambda: 0.0956 ---- 11:58:24\n",
      "Epoch: 19/50, Step: 21300, D Loss: 1.2352, C Loss: 0.3925, lambda: 0.0956 ---- 11:58:31\n",
      "Epoch: 19/50, Step: 21400, D Loss: 0.5271, C Loss: 0.2584, lambda: 0.0956 ---- 11:58:38\n",
      "Epoch: 19/50, Step: 21500, D Loss: 0.2980, C Loss: 0.1610, lambda: 0.0956 ---- 11:58:45\n",
      "***** Eval Result: 0.9018, Step: 21500\n",
      "***** Test Result: 0.4095, Step: 21500\n",
      "Epoch: 19/50, Step: 21600, D Loss: 0.8278, C Loss: 0.4623, lambda: 0.0956 ---- 11:58:58\n",
      "Epoch: 19/50, Step: 21700, D Loss: 0.8388, C Loss: 0.2360, lambda: 0.0956 ---- 11:59:05\n",
      "Epoch: 20/50, Step: 21800, D Loss: 0.4269, C Loss: 0.4257, lambda: 0.0964 ---- 11:59:13\n",
      "Epoch: 20/50, Step: 21900, D Loss: 0.7062, C Loss: 0.2164, lambda: 0.0964 ---- 11:59:20\n",
      "Epoch: 20/50, Step: 22000, D Loss: 0.3885, C Loss: 0.2108, lambda: 0.0964 ---- 11:59:27\n",
      "***** Eval Result: 0.8980, Step: 22000\n",
      "***** Test Result: 0.3406, Step: 22000\n",
      "Epoch: 20/50, Step: 22100, D Loss: 0.5333, C Loss: 0.2916, lambda: 0.0964 ---- 11:59:40\n",
      "Epoch: 20/50, Step: 22200, D Loss: 0.8173, C Loss: 0.3106, lambda: 0.0964 ---- 11:59:47\n",
      "Epoch: 20/50, Step: 22300, D Loss: 0.2936, C Loss: 0.2113, lambda: 0.0964 ---- 11:59:54\n",
      "Epoch: 20/50, Step: 22400, D Loss: 0.7723, C Loss: 0.4890, lambda: 0.0964 ---- 12:00:01\n",
      "Epoch: 20/50, Step: 22500, D Loss: 0.7930, C Loss: 0.2513, lambda: 0.0964 ---- 12:00:09\n",
      "***** Eval Result: 0.8994, Step: 22500\n",
      "***** Test Result: 0.5056, Step: 22500\n",
      "Epoch: 20/50, Step: 22600, D Loss: 0.6960, C Loss: 0.4017, lambda: 0.0964 ---- 12:00:22\n",
      "Epoch: 20/50, Step: 22700, D Loss: 0.7394, C Loss: 0.3888, lambda: 0.0964 ---- 12:00:29\n",
      "Epoch: 20/50, Step: 22800, D Loss: 0.6202, C Loss: 0.1989, lambda: 0.0964 ---- 12:00:36\n",
      "Epoch: 21/50, Step: 22900, D Loss: 0.6518, C Loss: 0.3022, lambda: 0.0970 ---- 12:00:43\n",
      "Epoch: 21/50, Step: 23000, D Loss: 0.5779, C Loss: 0.1041, lambda: 0.0970 ---- 12:00:50\n",
      "***** Eval Result: 0.8917, Step: 23000\n",
      "***** Test Result: 0.5305, Step: 23000\n",
      "Epoch: 21/50, Step: 23100, D Loss: 1.0329, C Loss: 0.2860, lambda: 0.0970 ---- 12:01:04\n",
      "Epoch: 21/50, Step: 23200, D Loss: 0.4556, C Loss: 0.2169, lambda: 0.0970 ---- 12:01:11\n",
      "Epoch: 21/50, Step: 23300, D Loss: 0.3170, C Loss: 0.2091, lambda: 0.0970 ---- 12:01:18\n",
      "Epoch: 21/50, Step: 23400, D Loss: 0.4047, C Loss: 0.5442, lambda: 0.0970 ---- 12:01:25\n",
      "Epoch: 21/50, Step: 23500, D Loss: 0.4927, C Loss: 0.1563, lambda: 0.0970 ---- 12:01:32\n",
      "***** Eval Result: 0.9055, Step: 23500\n",
      "***** Test Result: 0.3747, Step: 23500\n",
      "Epoch: 21/50, Step: 23600, D Loss: 0.4423, C Loss: 0.4079, lambda: 0.0970 ---- 12:01:45\n",
      "Epoch: 21/50, Step: 23700, D Loss: 0.4647, C Loss: 0.2373, lambda: 0.0970 ---- 12:01:53\n",
      "Epoch: 21/50, Step: 23800, D Loss: 1.2068, C Loss: 0.2757, lambda: 0.0970 ---- 12:02:00\n",
      "Epoch: 21/50, Step: 23900, D Loss: 0.1118, C Loss: 0.2989, lambda: 0.0970 ---- 12:02:07\n",
      "Epoch: 21/50, Step: 24000, D Loss: 0.3469, C Loss: 0.2215, lambda: 0.0970 ---- 12:02:14\n",
      "***** Eval Result: 0.8990, Step: 24000\n",
      "***** Test Result: 0.5538, Step: 24000\n",
      "Epoch: 22/50, Step: 24100, D Loss: 0.7358, C Loss: 0.2624, lambda: 0.0976 ---- 12:02:27\n",
      "Epoch: 22/50, Step: 24200, D Loss: 0.1986, C Loss: 0.2305, lambda: 0.0976 ---- 12:02:34\n"
     ]
    },
    {
     "name": "stdout",
     "output_type": "stream",
     "text": [
      "Epoch: 22/50, Step: 24300, D Loss: 0.5997, C Loss: 0.2089, lambda: 0.0976 ---- 12:02:41\n",
      "Epoch: 22/50, Step: 24400, D Loss: 0.0314, C Loss: 0.1672, lambda: 0.0976 ---- 12:02:49\n",
      "Epoch: 22/50, Step: 24500, D Loss: 0.0586, C Loss: 0.3841, lambda: 0.0976 ---- 12:02:56\n",
      "***** Eval Result: 0.9057, Step: 24500\n",
      "***** Test Result: 0.3864, Step: 24500\n",
      "Epoch: 22/50, Step: 24600, D Loss: 0.6264, C Loss: 0.1844, lambda: 0.0976 ---- 12:03:09\n",
      "Epoch: 22/50, Step: 24700, D Loss: 2.7292, C Loss: 0.2747, lambda: 0.0976 ---- 12:03:16\n",
      "Epoch: 22/50, Step: 24800, D Loss: 0.0170, C Loss: 0.3720, lambda: 0.0976 ---- 12:03:23\n",
      "Epoch: 22/50, Step: 24900, D Loss: 0.2218, C Loss: 0.2092, lambda: 0.0976 ---- 12:03:30\n",
      "Epoch: 22/50, Step: 25000, D Loss: 0.6496, C Loss: 0.3072, lambda: 0.0976 ---- 12:03:37\n",
      "***** Eval Result: 0.9043, Step: 25000\n",
      "***** Test Result: 0.4584, Step: 25000\n",
      "Epoch: 22/50, Step: 25100, D Loss: 0.0602, C Loss: 0.4489, lambda: 0.0976 ---- 12:03:51\n",
      "Epoch: 23/50, Step: 25200, D Loss: 0.0633, C Loss: 0.2624, lambda: 0.0980 ---- 12:03:58\n",
      "Epoch: 23/50, Step: 25300, D Loss: 0.0398, C Loss: 0.3873, lambda: 0.0980 ---- 12:04:05\n",
      "Epoch: 23/50, Step: 25400, D Loss: 0.3963, C Loss: 0.4457, lambda: 0.0980 ---- 12:04:12\n",
      "Epoch: 23/50, Step: 25500, D Loss: 1.4731, C Loss: 0.2774, lambda: 0.0980 ---- 12:04:19\n",
      "***** Eval Result: 0.9069, Step: 25500\n",
      "***** Test Result: 0.4777, Step: 25500\n",
      "Epoch: 23/50, Step: 25600, D Loss: 0.3770, C Loss: 0.3672, lambda: 0.0980 ---- 12:04:32\n",
      "Epoch: 23/50, Step: 25700, D Loss: 2.0318, C Loss: 0.1393, lambda: 0.0980 ---- 12:04:40\n",
      "Epoch: 23/50, Step: 25800, D Loss: 1.8253, C Loss: 0.6479, lambda: 0.0980 ---- 12:04:47\n",
      "Epoch: 23/50, Step: 25900, D Loss: 2.0308, C Loss: 0.1702, lambda: 0.0980 ---- 12:04:54\n",
      "Epoch: 23/50, Step: 26000, D Loss: 0.0440, C Loss: 0.3514, lambda: 0.0980 ---- 12:05:01\n",
      "***** Eval Result: 0.8975, Step: 26000\n",
      "***** Test Result: 0.5157, Step: 26000\n",
      "Epoch: 23/50, Step: 26100, D Loss: 0.2087, C Loss: 0.1319, lambda: 0.0980 ---- 12:05:14\n",
      "Epoch: 23/50, Step: 26200, D Loss: 0.2969, C Loss: 0.4081, lambda: 0.0980 ---- 12:05:21\n",
      "Epoch: 23/50, Step: 26300, D Loss: 2.2252, C Loss: 0.3836, lambda: 0.0980 ---- 12:05:28\n",
      "Epoch: 24/50, Step: 26400, D Loss: 0.9227, C Loss: 0.3747, lambda: 0.0984 ---- 12:05:36\n",
      "Epoch: 24/50, Step: 26500, D Loss: 1.3637, C Loss: 0.1250, lambda: 0.0984 ---- 12:05:43\n",
      "***** Eval Result: 0.9031, Step: 26500\n",
      "***** Test Result: 0.5261, Step: 26500\n",
      "Epoch: 24/50, Step: 26600, D Loss: 0.3743, C Loss: 0.1497, lambda: 0.0984 ---- 12:05:56\n",
      "Epoch: 24/50, Step: 26700, D Loss: 1.1889, C Loss: 0.1808, lambda: 0.0984 ---- 12:06:03\n",
      "Epoch: 24/50, Step: 26800, D Loss: 0.0892, C Loss: 0.3869, lambda: 0.0984 ---- 12:06:10\n",
      "Epoch: 24/50, Step: 26900, D Loss: 0.4455, C Loss: 0.2518, lambda: 0.0984 ---- 12:06:17\n",
      "Epoch: 24/50, Step: 27000, D Loss: 0.9297, C Loss: 0.3060, lambda: 0.0984 ---- 12:06:24\n",
      "***** Eval Result: 0.9131, Step: 27000\n",
      "***** Test Result: 0.4797, Step: 27000\n",
      "Epoch: 24/50, Step: 27100, D Loss: 0.8257, C Loss: 0.1784, lambda: 0.0984 ---- 12:06:38\n",
      "Epoch: 24/50, Step: 27200, D Loss: 2.0184, C Loss: 0.3856, lambda: 0.0984 ---- 12:06:45\n",
      "Epoch: 24/50, Step: 27300, D Loss: 1.1401, C Loss: 0.3572, lambda: 0.0984 ---- 12:06:52\n",
      "Epoch: 24/50, Step: 27400, D Loss: 1.2219, C Loss: 0.1951, lambda: 0.0984 ---- 12:06:59\n",
      "Epoch: 25/50, Step: 27500, D Loss: 0.7696, C Loss: 0.3572, lambda: 0.0987 ---- 12:07:06\n",
      "***** Eval Result: 0.8922, Step: 27500\n",
      "***** Test Result: 0.5181, Step: 27500\n",
      "Epoch: 25/50, Step: 27600, D Loss: 0.3625, C Loss: 0.2601, lambda: 0.0987 ---- 12:07:19\n",
      "Epoch: 25/50, Step: 27700, D Loss: 2.0913, C Loss: 0.4536, lambda: 0.0987 ---- 12:07:27\n",
      "Epoch: 25/50, Step: 27800, D Loss: 0.3319, C Loss: 0.1972, lambda: 0.0987 ---- 12:07:34\n",
      "Epoch: 25/50, Step: 27900, D Loss: 0.3751, C Loss: 0.3958, lambda: 0.0987 ---- 12:07:41\n",
      "Epoch: 25/50, Step: 28000, D Loss: 0.7042, C Loss: 0.0916, lambda: 0.0987 ---- 12:07:48\n",
      "***** Eval Result: 0.9171, Step: 28000\n",
      "***** Test Result: 0.5197, Step: 28000\n",
      "Epoch: 25/50, Step: 28100, D Loss: 0.3740, C Loss: 0.2229, lambda: 0.0987 ---- 12:08:01\n",
      "Epoch: 25/50, Step: 28200, D Loss: 0.5628, C Loss: 0.2384, lambda: 0.0987 ---- 12:08:08\n",
      "Epoch: 25/50, Step: 28300, D Loss: 0.1817, C Loss: 0.1623, lambda: 0.0987 ---- 12:08:15\n",
      "Epoch: 25/50, Step: 28400, D Loss: 0.5107, C Loss: 0.1052, lambda: 0.0987 ---- 12:08:23\n",
      "Epoch: 25/50, Step: 28500, D Loss: 0.7264, C Loss: 0.2094, lambda: 0.0987 ---- 12:08:30\n",
      "***** Eval Result: 0.9120, Step: 28500\n",
      "***** Test Result: 0.5197, Step: 28500\n",
      "Epoch: 26/50, Step: 28600, D Loss: 1.0428, C Loss: 0.2300, lambda: 0.0989 ---- 12:08:43\n",
      "Epoch: 26/50, Step: 28700, D Loss: 0.3711, C Loss: 0.1270, lambda: 0.0989 ---- 12:08:50\n",
      "Epoch: 26/50, Step: 28800, D Loss: 1.1971, C Loss: 0.4183, lambda: 0.0989 ---- 12:08:57\n",
      "Epoch: 26/50, Step: 28900, D Loss: 0.3784, C Loss: 0.1651, lambda: 0.0989 ---- 12:09:04\n",
      "Epoch: 26/50, Step: 29000, D Loss: 0.2309, C Loss: 0.2661, lambda: 0.0989 ---- 12:09:11\n",
      "***** Eval Result: 0.9042, Step: 29000\n",
      "***** Test Result: 0.3833, Step: 29000\n",
      "Epoch: 26/50, Step: 29100, D Loss: 0.2860, C Loss: 0.3739, lambda: 0.0989 ---- 12:09:25\n",
      "Epoch: 26/50, Step: 29200, D Loss: 0.5042, C Loss: 0.3861, lambda: 0.0989 ---- 12:09:32\n",
      "Epoch: 26/50, Step: 29300, D Loss: 1.6746, C Loss: 0.3672, lambda: 0.0989 ---- 12:09:39\n",
      "Epoch: 26/50, Step: 29400, D Loss: 0.8155, C Loss: 0.1591, lambda: 0.0989 ---- 12:09:46\n",
      "Epoch: 26/50, Step: 29500, D Loss: 0.1398, C Loss: 0.1311, lambda: 0.0989 ---- 12:09:53\n",
      "***** Eval Result: 0.9072, Step: 29500\n",
      "***** Test Result: 0.4121, Step: 29500\n",
      "Epoch: 26/50, Step: 29600, D Loss: 0.2150, C Loss: 0.3767, lambda: 0.0989 ---- 12:10:06\n",
      "Epoch: 26/50, Step: 29700, D Loss: 1.2434, C Loss: 0.2517, lambda: 0.0989 ---- 12:10:14\n",
      "Epoch: 27/50, Step: 29800, D Loss: 0.3810, C Loss: 0.4885, lambda: 0.0991 ---- 12:10:21\n",
      "Epoch: 27/50, Step: 29900, D Loss: 0.0176, C Loss: 0.1606, lambda: 0.0991 ---- 12:10:28\n",
      "Epoch: 27/50, Step: 30000, D Loss: 1.6414, C Loss: 0.1922, lambda: 0.0991 ---- 12:10:35\n",
      "***** Eval Result: 0.8932, Step: 30000\n",
      "***** Test Result: 0.4991, Step: 30000\n",
      "Epoch: 27/50, Step: 30100, D Loss: 1.0247, C Loss: 0.2428, lambda: 0.0991 ---- 12:10:48\n",
      "Epoch: 27/50, Step: 30200, D Loss: 0.4261, C Loss: 0.3919, lambda: 0.0991 ---- 12:10:55\n",
      "Epoch: 27/50, Step: 30300, D Loss: 1.2279, C Loss: 0.2416, lambda: 0.0991 ---- 12:11:02\n",
      "Epoch: 27/50, Step: 30400, D Loss: 0.9025, C Loss: 0.1610, lambda: 0.0991 ---- 12:11:10\n",
      "Epoch: 27/50, Step: 30500, D Loss: 0.7665, C Loss: 0.3865, lambda: 0.0991 ---- 12:11:17\n",
      "***** Eval Result: 0.9100, Step: 30500\n",
      "***** Test Result: 0.4388, Step: 30500\n",
      "Epoch: 27/50, Step: 30600, D Loss: 0.2525, C Loss: 0.2809, lambda: 0.0991 ---- 12:11:30\n",
      "Epoch: 27/50, Step: 30700, D Loss: 0.3243, C Loss: 0.2049, lambda: 0.0991 ---- 12:11:37\n",
      "Epoch: 27/50, Step: 30800, D Loss: 0.8862, C Loss: 0.2359, lambda: 0.0991 ---- 12:11:44\n",
      "Epoch: 28/50, Step: 30900, D Loss: 1.5492, C Loss: 0.3797, lambda: 0.0993 ---- 12:11:51\n",
      "Epoch: 28/50, Step: 31000, D Loss: 0.7076, C Loss: 0.2206, lambda: 0.0993 ---- 12:11:58\n",
      "***** Eval Result: 0.9130, Step: 31000\n",
      "***** Test Result: 0.4663, Step: 31000\n",
      "Epoch: 28/50, Step: 31100, D Loss: 0.4628, C Loss: 0.2930, lambda: 0.0993 ---- 12:12:12\n",
      "Epoch: 28/50, Step: 31200, D Loss: 0.7505, C Loss: 0.1909, lambda: 0.0993 ---- 12:12:19\n",
      "Epoch: 28/50, Step: 31300, D Loss: 1.7407, C Loss: 0.2867, lambda: 0.0993 ---- 12:12:26\n",
      "Epoch: 28/50, Step: 31400, D Loss: 2.1974, C Loss: 0.1002, lambda: 0.0993 ---- 12:12:33\n",
      "Epoch: 28/50, Step: 31500, D Loss: 0.2506, C Loss: 0.2906, lambda: 0.0993 ---- 12:12:40\n",
      "***** Eval Result: 0.9022, Step: 31500\n",
      "***** Test Result: 0.3950, Step: 31500\n",
      "Epoch: 28/50, Step: 31600, D Loss: 0.0279, C Loss: 0.2386, lambda: 0.0993 ---- 12:12:53\n",
      "Epoch: 28/50, Step: 31700, D Loss: 0.1852, C Loss: 0.2173, lambda: 0.0993 ---- 12:13:01\n",
      "Epoch: 28/50, Step: 31800, D Loss: 0.1791, C Loss: 0.2299, lambda: 0.0993 ---- 12:13:08\n",
      "Epoch: 28/50, Step: 31900, D Loss: 2.4405, C Loss: 0.3102, lambda: 0.0993 ---- 12:13:15\n",
      "Epoch: 28/50, Step: 32000, D Loss: 0.0968, C Loss: 0.4014, lambda: 0.0993 ---- 12:13:22\n",
      "***** Eval Result: 0.9193, Step: 32000\n",
      "***** Test Result: 0.4518, Step: 32000\n",
      "Epoch: 29/50, Step: 32100, D Loss: 0.1282, C Loss: 0.1312, lambda: 0.0994 ---- 12:13:35\n"
     ]
    },
    {
     "name": "stdout",
     "output_type": "stream",
     "text": [
      "Epoch: 29/50, Step: 32200, D Loss: 0.1034, C Loss: 0.1141, lambda: 0.0994 ---- 12:13:42\n",
      "Epoch: 29/50, Step: 32300, D Loss: 0.2868, C Loss: 0.0970, lambda: 0.0994 ---- 12:13:49\n",
      "Epoch: 29/50, Step: 32400, D Loss: 0.2099, C Loss: 0.1398, lambda: 0.0994 ---- 12:13:57\n",
      "Epoch: 29/50, Step: 32500, D Loss: 0.4869, C Loss: 0.2359, lambda: 0.0994 ---- 12:14:04\n",
      "***** Eval Result: 0.9087, Step: 32500\n",
      "***** Test Result: 0.5475, Step: 32500\n",
      "Epoch: 29/50, Step: 32600, D Loss: 0.2289, C Loss: 0.2944, lambda: 0.0994 ---- 12:14:17\n",
      "Epoch: 29/50, Step: 32700, D Loss: 1.2307, C Loss: 0.0811, lambda: 0.0994 ---- 12:14:24\n",
      "Epoch: 29/50, Step: 32800, D Loss: 0.9792, C Loss: 0.1384, lambda: 0.0994 ---- 12:14:31\n",
      "Epoch: 29/50, Step: 32900, D Loss: 0.6519, C Loss: 0.3251, lambda: 0.0994 ---- 12:14:38\n",
      "Epoch: 29/50, Step: 33000, D Loss: 0.6451, C Loss: 0.2834, lambda: 0.0994 ---- 12:14:45\n",
      "***** Eval Result: 0.9064, Step: 33000\n",
      "***** Test Result: 0.4339, Step: 33000\n",
      "Epoch: 29/50, Step: 33100, D Loss: 0.7891, C Loss: 0.4671, lambda: 0.0994 ---- 12:14:59\n",
      "Epoch: 30/50, Step: 33200, D Loss: 0.3996, C Loss: 0.3140, lambda: 0.0995 ---- 12:15:06\n",
      "Epoch: 30/50, Step: 33300, D Loss: 0.2749, C Loss: 0.1557, lambda: 0.0995 ---- 12:15:13\n",
      "Epoch: 30/50, Step: 33400, D Loss: 0.2473, C Loss: 0.1352, lambda: 0.0995 ---- 12:15:20\n",
      "Epoch: 30/50, Step: 33500, D Loss: 0.7923, C Loss: 0.0899, lambda: 0.0995 ---- 12:15:27\n",
      "***** Eval Result: 0.9136, Step: 33500\n",
      "***** Test Result: 0.4964, Step: 33500\n",
      "Epoch: 30/50, Step: 33600, D Loss: 0.2732, C Loss: 0.0583, lambda: 0.0995 ---- 12:15:40\n",
      "Epoch: 30/50, Step: 33700, D Loss: 0.6992, C Loss: 0.1515, lambda: 0.0995 ---- 12:15:48\n",
      "Epoch: 30/50, Step: 33800, D Loss: 0.6461, C Loss: 0.1988, lambda: 0.0995 ---- 12:15:55\n",
      "Epoch: 30/50, Step: 33900, D Loss: 0.4127, C Loss: 0.2271, lambda: 0.0995 ---- 12:16:02\n",
      "Epoch: 30/50, Step: 34000, D Loss: 1.1677, C Loss: 0.2008, lambda: 0.0995 ---- 12:16:09\n",
      "***** Eval Result: 0.9077, Step: 34000\n",
      "***** Test Result: 0.4908, Step: 34000\n",
      "Epoch: 30/50, Step: 34100, D Loss: 0.2021, C Loss: 0.2806, lambda: 0.0995 ---- 12:16:22\n",
      "Epoch: 30/50, Step: 34200, D Loss: 0.4699, C Loss: 0.2223, lambda: 0.0995 ---- 12:16:29\n",
      "Epoch: 30/50, Step: 34300, D Loss: 0.4000, C Loss: 0.2132, lambda: 0.0995 ---- 12:16:36\n",
      "Epoch: 31/50, Step: 34400, D Loss: 0.2763, C Loss: 0.0946, lambda: 0.0996 ---- 12:16:44\n",
      "Epoch: 31/50, Step: 34500, D Loss: 0.7712, C Loss: 0.0383, lambda: 0.0996 ---- 12:16:51\n",
      "***** Eval Result: 0.9194, Step: 34500\n",
      "***** Test Result: 0.4938, Step: 34500\n",
      "Epoch: 31/50, Step: 34600, D Loss: 0.2408, C Loss: 0.1626, lambda: 0.0996 ---- 12:17:04\n",
      "Epoch: 31/50, Step: 34700, D Loss: 2.2635, C Loss: 0.1724, lambda: 0.0996 ---- 12:17:11\n",
      "Epoch: 31/50, Step: 34800, D Loss: 0.2875, C Loss: 0.3205, lambda: 0.0996 ---- 12:17:18\n",
      "Epoch: 31/50, Step: 34900, D Loss: 0.1023, C Loss: 0.2265, lambda: 0.0996 ---- 12:17:25\n",
      "Epoch: 31/50, Step: 35000, D Loss: 2.1948, C Loss: 0.2238, lambda: 0.0996 ---- 12:17:32\n",
      "***** Eval Result: 0.8909, Step: 35000\n",
      "***** Test Result: 0.5016, Step: 35000\n",
      "Epoch: 31/50, Step: 35100, D Loss: 0.4348, C Loss: 0.1801, lambda: 0.0996 ---- 12:17:46\n",
      "Epoch: 31/50, Step: 35200, D Loss: 1.1480, C Loss: 0.2130, lambda: 0.0996 ---- 12:17:53\n",
      "Epoch: 31/50, Step: 35300, D Loss: 0.1949, C Loss: 0.1283, lambda: 0.0996 ---- 12:18:00\n",
      "Epoch: 31/50, Step: 35400, D Loss: 0.5176, C Loss: 0.1760, lambda: 0.0996 ---- 12:18:07\n",
      "Epoch: 32/50, Step: 35500, D Loss: 0.3708, C Loss: 0.1160, lambda: 0.0997 ---- 12:18:14\n",
      "***** Eval Result: 0.9040, Step: 35500\n",
      "***** Test Result: 0.3966, Step: 35500\n",
      "Epoch: 32/50, Step: 35600, D Loss: 1.0814, C Loss: 0.0928, lambda: 0.0997 ---- 12:18:27\n",
      "Epoch: 32/50, Step: 35700, D Loss: 0.6932, C Loss: 0.3314, lambda: 0.0997 ---- 12:18:35\n",
      "Epoch: 32/50, Step: 35800, D Loss: 0.1678, C Loss: 0.3569, lambda: 0.0997 ---- 12:18:42\n",
      "Epoch: 32/50, Step: 35900, D Loss: 0.9674, C Loss: 0.2418, lambda: 0.0997 ---- 12:18:49\n",
      "Epoch: 32/50, Step: 36000, D Loss: 0.9353, C Loss: 0.2107, lambda: 0.0997 ---- 12:18:56\n",
      "***** Eval Result: 0.9171, Step: 36000\n",
      "***** Test Result: 0.4948, Step: 36000\n",
      "Epoch: 32/50, Step: 36100, D Loss: 0.9878, C Loss: 0.2851, lambda: 0.0997 ---- 12:19:09\n",
      "Epoch: 32/50, Step: 36200, D Loss: 0.9167, C Loss: 0.3868, lambda: 0.0997 ---- 12:19:16\n",
      "Epoch: 32/50, Step: 36300, D Loss: 0.6906, C Loss: 0.0344, lambda: 0.0997 ---- 12:19:23\n",
      "Epoch: 32/50, Step: 36400, D Loss: 0.6942, C Loss: 0.3347, lambda: 0.0997 ---- 12:19:31\n",
      "Epoch: 32/50, Step: 36500, D Loss: 0.5414, C Loss: 0.0873, lambda: 0.0997 ---- 12:19:38\n",
      "***** Eval Result: 0.9101, Step: 36500\n",
      "***** Test Result: 0.5472, Step: 36500\n",
      "Epoch: 32/50, Step: 36600, D Loss: 1.5995, C Loss: 0.2826, lambda: 0.0997 ---- 12:19:51\n",
      "Epoch: 33/50, Step: 36700, D Loss: 0.3303, C Loss: 0.1832, lambda: 0.0997 ---- 12:19:58\n",
      "Epoch: 33/50, Step: 36800, D Loss: 0.4170, C Loss: 0.1797, lambda: 0.0997 ---- 12:20:05\n",
      "Epoch: 33/50, Step: 36900, D Loss: 0.4063, C Loss: 0.1278, lambda: 0.0997 ---- 12:20:12\n",
      "Epoch: 33/50, Step: 37000, D Loss: 1.1174, C Loss: 0.3469, lambda: 0.0997 ---- 12:20:19\n",
      "***** Eval Result: 0.9152, Step: 37000\n",
      "***** Test Result: 0.4872, Step: 37000\n",
      "Epoch: 33/50, Step: 37100, D Loss: 0.6700, C Loss: 0.0497, lambda: 0.0997 ---- 12:20:33\n",
      "Epoch: 33/50, Step: 37200, D Loss: 0.7590, C Loss: 0.1164, lambda: 0.0997 ---- 12:20:40\n",
      "Epoch: 33/50, Step: 37300, D Loss: 0.2436, C Loss: 0.1915, lambda: 0.0997 ---- 12:20:47\n",
      "Epoch: 33/50, Step: 37400, D Loss: 0.2555, C Loss: 0.0875, lambda: 0.0997 ---- 12:20:54\n",
      "Epoch: 33/50, Step: 37500, D Loss: 1.0585, C Loss: 0.1233, lambda: 0.0997 ---- 12:21:01\n",
      "***** Eval Result: 0.9035, Step: 37500\n",
      "***** Test Result: 0.3813, Step: 37500\n",
      "Epoch: 33/50, Step: 37600, D Loss: 0.7781, C Loss: 0.2719, lambda: 0.0997 ---- 12:21:15\n",
      "Epoch: 33/50, Step: 37700, D Loss: 0.5278, C Loss: 0.1159, lambda: 0.0997 ---- 12:21:22\n",
      "Epoch: 34/50, Step: 37800, D Loss: 0.2953, C Loss: 0.1747, lambda: 0.0998 ---- 12:21:29\n",
      "Epoch: 34/50, Step: 37900, D Loss: 0.4422, C Loss: 0.0455, lambda: 0.0998 ---- 12:21:36\n",
      "Epoch: 34/50, Step: 38000, D Loss: 0.4239, C Loss: 0.2206, lambda: 0.0998 ---- 12:21:43\n",
      "***** Eval Result: 0.9124, Step: 38000\n",
      "***** Test Result: 0.4504, Step: 38000\n",
      "Epoch: 34/50, Step: 38100, D Loss: 0.2242, C Loss: 0.1277, lambda: 0.0998 ---- 12:21:56\n",
      "Epoch: 34/50, Step: 38200, D Loss: 0.1672, C Loss: 0.3122, lambda: 0.0998 ---- 12:22:03\n",
      "Epoch: 34/50, Step: 38300, D Loss: 0.2035, C Loss: 0.1851, lambda: 0.0998 ---- 12:22:11\n",
      "Epoch: 34/50, Step: 38400, D Loss: 0.7422, C Loss: 0.2304, lambda: 0.0998 ---- 12:22:18\n",
      "Epoch: 34/50, Step: 38500, D Loss: 0.0621, C Loss: 0.2082, lambda: 0.0998 ---- 12:22:25\n",
      "***** Eval Result: 0.9106, Step: 38500\n",
      "***** Test Result: 0.4560, Step: 38500\n",
      "Epoch: 34/50, Step: 38600, D Loss: 0.1653, C Loss: 0.1327, lambda: 0.0998 ---- 12:22:38\n",
      "Epoch: 34/50, Step: 38700, D Loss: 0.3403, C Loss: 0.2291, lambda: 0.0998 ---- 12:22:45\n",
      "Epoch: 34/50, Step: 38800, D Loss: 0.8036, C Loss: 0.2320, lambda: 0.0998 ---- 12:22:52\n",
      "Epoch: 35/50, Step: 38900, D Loss: 1.3691, C Loss: 0.2134, lambda: 0.0998 ---- 12:22:59\n",
      "Epoch: 35/50, Step: 39000, D Loss: 1.2277, C Loss: 0.0553, lambda: 0.0998 ---- 12:23:07\n",
      "***** Eval Result: 0.9173, Step: 39000\n",
      "***** Test Result: 0.4262, Step: 39000\n",
      "Epoch: 35/50, Step: 39100, D Loss: 1.8192, C Loss: 0.1105, lambda: 0.0998 ---- 12:23:20\n",
      "Epoch: 35/50, Step: 39200, D Loss: 0.2119, C Loss: 0.1211, lambda: 0.0998 ---- 12:23:27\n",
      "Epoch: 35/50, Step: 39300, D Loss: 0.5379, C Loss: 0.1100, lambda: 0.0998 ---- 12:23:34\n",
      "Epoch: 35/50, Step: 39400, D Loss: 0.2385, C Loss: 0.0744, lambda: 0.0998 ---- 12:23:41\n",
      "Epoch: 35/50, Step: 39500, D Loss: 0.6488, C Loss: 0.1810, lambda: 0.0998 ---- 12:23:48\n",
      "***** Eval Result: 0.9122, Step: 39500\n",
      "***** Test Result: 0.3975, Step: 39500\n",
      "Epoch: 35/50, Step: 39600, D Loss: 0.7103, C Loss: 0.2729, lambda: 0.0998 ---- 12:24:02\n",
      "Epoch: 35/50, Step: 39700, D Loss: 0.9205, C Loss: 0.1492, lambda: 0.0998 ---- 12:24:09\n",
      "Epoch: 35/50, Step: 39800, D Loss: 0.4629, C Loss: 0.2555, lambda: 0.0998 ---- 12:24:16\n",
      "Epoch: 35/50, Step: 39900, D Loss: 0.1617, C Loss: 0.2023, lambda: 0.0998 ---- 12:24:23\n",
      "Epoch: 35/50, Step: 40000, D Loss: 0.3299, C Loss: 0.1609, lambda: 0.0998 ---- 12:24:30\n",
      "***** Eval Result: 0.9148, Step: 40000\n",
      "***** Test Result: 0.4065, Step: 40000\n"
     ]
    },
    {
     "name": "stdout",
     "output_type": "stream",
     "text": [
      "Epoch: 36/50, Step: 40100, D Loss: 0.2057, C Loss: 0.3484, lambda: 0.0999 ---- 12:24:43\n",
      "Epoch: 36/50, Step: 40200, D Loss: 0.1783, C Loss: 0.0858, lambda: 0.0999 ---- 12:24:50\n",
      "Epoch: 36/50, Step: 40300, D Loss: 0.5240, C Loss: 0.1161, lambda: 0.0999 ---- 12:24:58\n",
      "Epoch: 36/50, Step: 40400, D Loss: 0.8070, C Loss: 0.1222, lambda: 0.0999 ---- 12:25:05\n",
      "Epoch: 36/50, Step: 40500, D Loss: 0.6205, C Loss: 0.1105, lambda: 0.0999 ---- 12:25:12\n",
      "***** Eval Result: 0.9146, Step: 40500\n",
      "***** Test Result: 0.4500, Step: 40500\n",
      "Epoch: 36/50, Step: 40600, D Loss: 0.1609, C Loss: 0.1348, lambda: 0.0999 ---- 12:25:25\n",
      "Epoch: 36/50, Step: 40700, D Loss: 0.3405, C Loss: 0.1179, lambda: 0.0999 ---- 12:25:32\n",
      "Epoch: 36/50, Step: 40800, D Loss: 0.0997, C Loss: 0.2974, lambda: 0.0999 ---- 12:25:39\n",
      "Epoch: 36/50, Step: 40900, D Loss: 0.4944, C Loss: 0.0870, lambda: 0.0999 ---- 12:25:46\n",
      "Epoch: 36/50, Step: 41000, D Loss: 0.0540, C Loss: 0.0953, lambda: 0.0999 ---- 12:25:54\n",
      "***** Eval Result: 0.9162, Step: 41000\n",
      "***** Test Result: 0.3671, Step: 41000\n",
      "Epoch: 36/50, Step: 41100, D Loss: 0.0307, C Loss: 0.2090, lambda: 0.0999 ---- 12:26:07\n",
      "Epoch: 37/50, Step: 41200, D Loss: 0.0981, C Loss: 0.2071, lambda: 0.0999 ---- 12:26:14\n",
      "Epoch: 37/50, Step: 41300, D Loss: 0.6435, C Loss: 0.1158, lambda: 0.0999 ---- 12:26:21\n",
      "Epoch: 37/50, Step: 41400, D Loss: 1.3400, C Loss: 0.1895, lambda: 0.0999 ---- 12:26:28\n",
      "Epoch: 37/50, Step: 41500, D Loss: 1.3234, C Loss: 0.0948, lambda: 0.0999 ---- 12:26:35\n",
      "***** Eval Result: 0.9061, Step: 41500\n",
      "***** Test Result: 0.3833, Step: 41500\n",
      "Epoch: 37/50, Step: 41600, D Loss: 0.7315, C Loss: 0.2855, lambda: 0.0999 ---- 12:26:49\n",
      "Epoch: 37/50, Step: 41700, D Loss: 0.5799, C Loss: 0.3679, lambda: 0.0999 ---- 12:26:56\n",
      "Epoch: 37/50, Step: 41800, D Loss: 0.2710, C Loss: 0.1267, lambda: 0.0999 ---- 12:27:03\n",
      "Epoch: 37/50, Step: 41900, D Loss: 0.9452, C Loss: 0.0679, lambda: 0.0999 ---- 12:27:10\n",
      "Epoch: 37/50, Step: 42000, D Loss: 0.4412, C Loss: 0.3073, lambda: 0.0999 ---- 12:27:17\n",
      "***** Eval Result: 0.9076, Step: 42000\n",
      "***** Test Result: 0.4834, Step: 42000\n",
      "Epoch: 37/50, Step: 42100, D Loss: 1.5721, C Loss: 0.1436, lambda: 0.0999 ---- 12:27:30\n",
      "Epoch: 37/50, Step: 42200, D Loss: 1.2617, C Loss: 0.1467, lambda: 0.0999 ---- 12:27:38\n",
      "Epoch: 37/50, Step: 42300, D Loss: 0.7738, C Loss: 0.1624, lambda: 0.0999 ---- 12:27:45\n",
      "Epoch: 38/50, Step: 42400, D Loss: 0.6844, C Loss: 0.1415, lambda: 0.0999 ---- 12:27:52\n",
      "Epoch: 38/50, Step: 42500, D Loss: 1.2361, C Loss: 0.0532, lambda: 0.0999 ---- 12:27:59\n",
      "***** Eval Result: 0.9165, Step: 42500\n",
      "***** Test Result: 0.4709, Step: 42500\n",
      "Epoch: 38/50, Step: 42600, D Loss: 0.4123, C Loss: 0.1358, lambda: 0.0999 ---- 12:28:12\n",
      "Epoch: 38/50, Step: 42700, D Loss: 0.1495, C Loss: 0.0832, lambda: 0.0999 ---- 12:28:19\n",
      "Epoch: 38/50, Step: 42800, D Loss: 1.2476, C Loss: 0.1568, lambda: 0.0999 ---- 12:28:26\n",
      "Epoch: 38/50, Step: 42900, D Loss: 1.8865, C Loss: 0.1599, lambda: 0.0999 ---- 12:28:34\n",
      "Epoch: 38/50, Step: 43000, D Loss: 0.8192, C Loss: 0.0698, lambda: 0.0999 ---- 12:28:41\n",
      "***** Eval Result: 0.8963, Step: 43000\n",
      "***** Test Result: 0.4161, Step: 43000\n",
      "Epoch: 38/50, Step: 43100, D Loss: 0.1896, C Loss: 0.2097, lambda: 0.0999 ---- 12:28:54\n",
      "Epoch: 38/50, Step: 43200, D Loss: 0.1911, C Loss: 0.0471, lambda: 0.0999 ---- 12:29:01\n",
      "Epoch: 38/50, Step: 43300, D Loss: 0.1289, C Loss: 0.1465, lambda: 0.0999 ---- 12:29:08\n",
      "Epoch: 38/50, Step: 43400, D Loss: 0.2691, C Loss: 0.1498, lambda: 0.0999 ---- 12:29:15\n",
      "Epoch: 39/50, Step: 43500, D Loss: 0.2143, C Loss: 0.1930, lambda: 0.0999 ---- 12:29:22\n",
      "***** Eval Result: 0.9191, Step: 43500\n",
      "***** Test Result: 0.4645, Step: 43500\n",
      "Epoch: 39/50, Step: 43600, D Loss: 0.2296, C Loss: 0.1282, lambda: 0.0999 ---- 12:29:36\n",
      "Epoch: 39/50, Step: 43700, D Loss: 0.3680, C Loss: 0.1671, lambda: 0.0999 ---- 12:29:43\n",
      "Epoch: 39/50, Step: 43800, D Loss: 0.3306, C Loss: 0.0722, lambda: 0.0999 ---- 12:29:50\n",
      "Epoch: 39/50, Step: 43900, D Loss: 0.3644, C Loss: 0.1949, lambda: 0.0999 ---- 12:29:57\n",
      "Epoch: 39/50, Step: 44000, D Loss: 0.2245, C Loss: 0.0697, lambda: 0.0999 ---- 12:30:04\n",
      "***** Eval Result: 0.9162, Step: 44000\n",
      "***** Test Result: 0.4162, Step: 44000\n",
      "Epoch: 39/50, Step: 44100, D Loss: 0.6265, C Loss: 0.0977, lambda: 0.0999 ---- 12:30:17\n",
      "Epoch: 39/50, Step: 44200, D Loss: 0.7577, C Loss: 0.1846, lambda: 0.0999 ---- 12:30:25\n",
      "Epoch: 39/50, Step: 44300, D Loss: 0.5868, C Loss: 0.1328, lambda: 0.0999 ---- 12:30:32\n",
      "Epoch: 39/50, Step: 44400, D Loss: 0.5162, C Loss: 0.1163, lambda: 0.0999 ---- 12:30:39\n",
      "Epoch: 39/50, Step: 44500, D Loss: 0.6213, C Loss: 0.1517, lambda: 0.0999 ---- 12:30:46\n",
      "***** Eval Result: 0.9139, Step: 44500\n",
      "***** Test Result: 0.4427, Step: 44500\n",
      "Epoch: 39/50, Step: 44600, D Loss: 0.5089, C Loss: 0.0693, lambda: 0.0999 ---- 12:30:59\n",
      "Epoch: 40/50, Step: 44700, D Loss: 0.4853, C Loss: 0.1579, lambda: 0.0999 ---- 12:31:06\n",
      "Epoch: 40/50, Step: 44800, D Loss: 0.8029, C Loss: 0.1573, lambda: 0.0999 ---- 12:31:13\n",
      "Epoch: 40/50, Step: 44900, D Loss: 0.0395, C Loss: 0.1010, lambda: 0.0999 ---- 12:31:21\n",
      "Epoch: 40/50, Step: 45000, D Loss: 1.9072, C Loss: 0.0738, lambda: 0.0999 ---- 12:31:28\n",
      "***** Eval Result: 0.9097, Step: 45000\n",
      "***** Test Result: 0.5380, Step: 45000\n",
      "Epoch: 40/50, Step: 45100, D Loss: 1.9106, C Loss: 0.2183, lambda: 0.0999 ---- 12:31:41\n",
      "Epoch: 40/50, Step: 45200, D Loss: 1.0048, C Loss: 0.2343, lambda: 0.0999 ---- 12:31:48\n",
      "Epoch: 40/50, Step: 45300, D Loss: 0.3739, C Loss: 0.1245, lambda: 0.0999 ---- 12:31:55\n",
      "Epoch: 40/50, Step: 45400, D Loss: 0.2345, C Loss: 0.0640, lambda: 0.0999 ---- 12:32:02\n",
      "Epoch: 40/50, Step: 45500, D Loss: 0.3278, C Loss: 0.1116, lambda: 0.0999 ---- 12:32:10\n",
      "***** Eval Result: 0.9096, Step: 45500\n",
      "***** Test Result: 0.3900, Step: 45500\n",
      "Epoch: 40/50, Step: 45600, D Loss: 0.2437, C Loss: 0.2051, lambda: 0.0999 ---- 12:32:23\n",
      "Epoch: 40/50, Step: 45700, D Loss: 0.4109, C Loss: 0.0459, lambda: 0.0999 ---- 12:32:30\n",
      "Epoch: 41/50, Step: 45800, D Loss: 1.3559, C Loss: 0.1530, lambda: 0.0999 ---- 12:32:37\n",
      "Epoch: 41/50, Step: 45900, D Loss: 0.6675, C Loss: 0.0682, lambda: 0.0999 ---- 12:32:44\n",
      "Epoch: 41/50, Step: 46000, D Loss: 0.6971, C Loss: 0.0538, lambda: 0.0999 ---- 12:32:51\n",
      "***** Eval Result: 0.9226, Step: 46000\n",
      "***** Test Result: 0.4119, Step: 46000\n",
      "Epoch: 41/50, Step: 46100, D Loss: 0.6496, C Loss: 0.0336, lambda: 0.0999 ---- 12:33:04\n",
      "Epoch: 41/50, Step: 46200, D Loss: 0.7465, C Loss: 0.0892, lambda: 0.0999 ---- 12:33:12\n",
      "Epoch: 41/50, Step: 46300, D Loss: 0.8783, C Loss: 0.2056, lambda: 0.0999 ---- 12:33:19\n",
      "Epoch: 41/50, Step: 46400, D Loss: 0.8600, C Loss: 0.0448, lambda: 0.0999 ---- 12:33:26\n",
      "Epoch: 41/50, Step: 46500, D Loss: 0.5929, C Loss: 0.3226, lambda: 0.0999 ---- 12:33:33\n",
      "***** Eval Result: 0.9145, Step: 46500\n",
      "***** Test Result: 0.3986, Step: 46500\n",
      "Epoch: 41/50, Step: 46600, D Loss: 0.5815, C Loss: 0.2788, lambda: 0.0999 ---- 12:33:46\n",
      "Epoch: 41/50, Step: 46700, D Loss: 1.2758, C Loss: 0.0836, lambda: 0.0999 ---- 12:33:53\n",
      "Epoch: 41/50, Step: 46800, D Loss: 0.2712, C Loss: 0.0713, lambda: 0.0999 ---- 12:34:00\n",
      "Epoch: 41/50, Step: 46900, D Loss: 0.3936, C Loss: 0.0894, lambda: 0.0999 ---- 12:34:08\n",
      "Epoch: 42/50, Step: 47000, D Loss: 0.3958, C Loss: 0.1241, lambda: 0.1000 ---- 12:34:15\n",
      "***** Eval Result: 0.9236, Step: 47000\n",
      "***** Test Result: 0.4550, Step: 47000\n",
      "Epoch: 42/50, Step: 47100, D Loss: 1.5367, C Loss: 0.0570, lambda: 0.1000 ---- 12:34:28\n",
      "Epoch: 42/50, Step: 47200, D Loss: 1.1322, C Loss: 0.0965, lambda: 0.1000 ---- 12:34:35\n",
      "Epoch: 42/50, Step: 47300, D Loss: 0.6299, C Loss: 0.3602, lambda: 0.1000 ---- 12:34:42\n",
      "Epoch: 42/50, Step: 47400, D Loss: 0.6152, C Loss: 0.1555, lambda: 0.1000 ---- 12:34:49\n",
      "Epoch: 42/50, Step: 47500, D Loss: 1.1014, C Loss: 0.0823, lambda: 0.1000 ---- 12:34:56\n",
      "***** Eval Result: 0.9186, Step: 47500\n",
      "***** Test Result: 0.4103, Step: 47500\n",
      "Epoch: 42/50, Step: 47600, D Loss: 0.9181, C Loss: 0.0383, lambda: 0.1000 ---- 12:35:10\n",
      "Epoch: 42/50, Step: 47700, D Loss: 0.8373, C Loss: 0.0417, lambda: 0.1000 ---- 12:35:17\n",
      "Epoch: 42/50, Step: 47800, D Loss: 0.2731, C Loss: 0.0489, lambda: 0.1000 ---- 12:35:24\n",
      "Epoch: 42/50, Step: 47900, D Loss: 0.2629, C Loss: 0.0684, lambda: 0.1000 ---- 12:35:31\n",
      "Epoch: 42/50, Step: 48000, D Loss: 0.5675, C Loss: 0.3433, lambda: 0.1000 ---- 12:35:38\n"
     ]
    },
    {
     "name": "stdout",
     "output_type": "stream",
     "text": [
      "***** Eval Result: 0.8946, Step: 48000\n",
      "***** Test Result: 0.3779, Step: 48000\n",
      "Epoch: 43/50, Step: 48100, D Loss: 0.2348, C Loss: 0.0681, lambda: 0.1000 ---- 12:35:52\n",
      "Epoch: 43/50, Step: 48200, D Loss: 0.5472, C Loss: 0.0984, lambda: 0.1000 ---- 12:35:59\n",
      "Epoch: 43/50, Step: 48300, D Loss: 0.7339, C Loss: 0.1376, lambda: 0.1000 ---- 12:36:06\n",
      "Epoch: 43/50, Step: 48400, D Loss: 1.0124, C Loss: 0.1267, lambda: 0.1000 ---- 12:36:13\n",
      "Epoch: 43/50, Step: 48500, D Loss: 1.2740, C Loss: 0.1047, lambda: 0.1000 ---- 12:36:20\n",
      "***** Eval Result: 0.9017, Step: 48500\n",
      "***** Test Result: 0.4721, Step: 48500\n",
      "Epoch: 43/50, Step: 48600, D Loss: 1.1945, C Loss: 0.0752, lambda: 0.1000 ---- 12:36:33\n",
      "Epoch: 43/50, Step: 48700, D Loss: 1.7644, C Loss: 0.1948, lambda: 0.1000 ---- 12:36:40\n",
      "Epoch: 43/50, Step: 48800, D Loss: 0.5569, C Loss: 0.0636, lambda: 0.1000 ---- 12:36:48\n",
      "Epoch: 43/50, Step: 48900, D Loss: 0.2241, C Loss: 0.0942, lambda: 0.1000 ---- 12:36:55\n",
      "Epoch: 43/50, Step: 49000, D Loss: 0.6257, C Loss: 0.2371, lambda: 0.1000 ---- 12:37:02\n",
      "***** Eval Result: 0.9121, Step: 49000\n",
      "***** Test Result: 0.3938, Step: 49000\n",
      "Epoch: 43/50, Step: 49100, D Loss: 0.1873, C Loss: 0.1140, lambda: 0.1000 ---- 12:37:15\n",
      "Epoch: 44/50, Step: 49200, D Loss: 0.8524, C Loss: 0.0256, lambda: 0.1000 ---- 12:37:22\n",
      "Epoch: 44/50, Step: 49300, D Loss: 0.3670, C Loss: 0.1767, lambda: 0.1000 ---- 12:37:29\n",
      "Epoch: 44/50, Step: 49400, D Loss: 0.7833, C Loss: 0.0837, lambda: 0.1000 ---- 12:37:36\n",
      "Epoch: 44/50, Step: 49500, D Loss: 0.9727, C Loss: 0.1195, lambda: 0.1000 ---- 12:37:44\n",
      "***** Eval Result: 0.9198, Step: 49500\n",
      "***** Test Result: 0.4515, Step: 49500\n",
      "Epoch: 44/50, Step: 49600, D Loss: 0.3806, C Loss: 0.1607, lambda: 0.1000 ---- 12:37:57\n",
      "Epoch: 44/50, Step: 49700, D Loss: 1.0224, C Loss: 0.0261, lambda: 0.1000 ---- 12:38:04\n",
      "Epoch: 44/50, Step: 49800, D Loss: 0.3147, C Loss: 0.1056, lambda: 0.1000 ---- 12:38:11\n",
      "Epoch: 44/50, Step: 49900, D Loss: 0.7800, C Loss: 0.0665, lambda: 0.1000 ---- 12:38:18\n",
      "Epoch: 44/50, Step: 50000, D Loss: 0.4482, C Loss: 0.9817, lambda: 0.1000 ---- 12:38:25\n",
      "***** Eval Result: 0.7445, Step: 50000\n",
      "***** Test Result: 0.3258, Step: 50000\n",
      "Epoch: 44/50, Step: 50100, D Loss: 0.3197, C Loss: 0.5296, lambda: 0.1000 ---- 12:38:39\n",
      "Epoch: 44/50, Step: 50200, D Loss: 0.2930, C Loss: 0.5890, lambda: 0.1000 ---- 12:38:46\n",
      "Epoch: 44/50, Step: 50300, D Loss: 0.5584, C Loss: 0.5757, lambda: 0.1000 ---- 12:38:53\n",
      "Epoch: 45/50, Step: 50400, D Loss: 0.7561, C Loss: 0.4955, lambda: 0.1000 ---- 12:39:00\n",
      "Epoch: 45/50, Step: 50500, D Loss: 0.3583, C Loss: 0.6138, lambda: 0.1000 ---- 12:39:07\n",
      "***** Eval Result: 0.8671, Step: 50500\n",
      "***** Test Result: 0.4504, Step: 50500\n",
      "Epoch: 45/50, Step: 50600, D Loss: 0.3761, C Loss: 0.2925, lambda: 0.1000 ---- 12:39:20\n",
      "Epoch: 45/50, Step: 50700, D Loss: 0.2535, C Loss: 0.3894, lambda: 0.1000 ---- 12:39:27\n",
      "Epoch: 45/50, Step: 50800, D Loss: 1.0061, C Loss: 0.3942, lambda: 0.1000 ---- 12:39:35\n",
      "Epoch: 45/50, Step: 50900, D Loss: 1.1329, C Loss: 0.3453, lambda: 0.1000 ---- 12:39:42\n",
      "Epoch: 45/50, Step: 51000, D Loss: 0.2066, C Loss: 0.2879, lambda: 0.1000 ---- 12:39:49\n",
      "***** Eval Result: 0.8871, Step: 51000\n",
      "***** Test Result: 0.4412, Step: 51000\n",
      "Epoch: 45/50, Step: 51100, D Loss: 0.0265, C Loss: 0.3887, lambda: 0.1000 ---- 12:40:02\n",
      "Epoch: 45/50, Step: 51200, D Loss: 0.0399, C Loss: 0.2226, lambda: 0.1000 ---- 12:40:09\n",
      "Epoch: 45/50, Step: 51300, D Loss: 0.4819, C Loss: 0.3771, lambda: 0.1000 ---- 12:40:16\n",
      "Epoch: 45/50, Step: 51400, D Loss: 1.0148, C Loss: 0.3127, lambda: 0.1000 ---- 12:40:23\n",
      "Epoch: 46/50, Step: 51500, D Loss: 0.2182, C Loss: 0.5667, lambda: 0.1000 ---- 12:40:31\n",
      "***** Eval Result: 0.8852, Step: 51500\n",
      "***** Test Result: 0.4703, Step: 51500\n",
      "Epoch: 46/50, Step: 51600, D Loss: 0.0740, C Loss: 0.4985, lambda: 0.1000 ---- 12:40:44\n",
      "Epoch: 46/50, Step: 51700, D Loss: 0.0709, C Loss: 0.3623, lambda: 0.1000 ---- 12:40:51\n",
      "Epoch: 46/50, Step: 51800, D Loss: 0.6694, C Loss: 0.3381, lambda: 0.1000 ---- 12:40:58\n",
      "Epoch: 46/50, Step: 51900, D Loss: 1.2720, C Loss: 0.1946, lambda: 0.1000 ---- 12:41:05\n",
      "Epoch: 46/50, Step: 52000, D Loss: 0.8996, C Loss: 0.4203, lambda: 0.1000 ---- 12:41:12\n",
      "***** Eval Result: 0.9029, Step: 52000\n",
      "***** Test Result: 0.4519, Step: 52000\n",
      "Epoch: 46/50, Step: 52100, D Loss: 0.5529, C Loss: 0.2369, lambda: 0.1000 ---- 12:41:26\n",
      "Epoch: 46/50, Step: 52200, D Loss: 0.4886, C Loss: 0.2089, lambda: 0.1000 ---- 12:41:33\n",
      "Epoch: 46/50, Step: 52300, D Loss: 0.7589, C Loss: 0.2486, lambda: 0.1000 ---- 12:41:40\n",
      "Epoch: 46/50, Step: 52400, D Loss: 0.1431, C Loss: 0.1164, lambda: 0.1000 ---- 12:41:47\n",
      "Epoch: 46/50, Step: 52500, D Loss: 0.9680, C Loss: 0.3951, lambda: 0.1000 ---- 12:41:54\n",
      "***** Eval Result: 0.9095, Step: 52500\n",
      "***** Test Result: 0.4511, Step: 52500\n",
      "Epoch: 46/50, Step: 52600, D Loss: 1.6296, C Loss: 0.1946, lambda: 0.1000 ---- 12:42:07\n",
      "Epoch: 47/50, Step: 52700, D Loss: 0.3096, C Loss: 0.2275, lambda: 0.1000 ---- 12:42:14\n",
      "Epoch: 47/50, Step: 52800, D Loss: 0.0568, C Loss: 0.1222, lambda: 0.1000 ---- 12:42:22\n",
      "Epoch: 47/50, Step: 52900, D Loss: 0.8761, C Loss: 0.4699, lambda: 0.1000 ---- 12:42:29\n",
      "Epoch: 47/50, Step: 53000, D Loss: 1.1360, C Loss: 0.3158, lambda: 0.1000 ---- 12:42:36\n",
      "***** Eval Result: 0.9035, Step: 53000\n",
      "***** Test Result: 0.4430, Step: 53000\n",
      "Epoch: 47/50, Step: 53100, D Loss: 0.9109, C Loss: 0.3428, lambda: 0.1000 ---- 12:42:49\n",
      "Epoch: 47/50, Step: 53200, D Loss: 0.6043, C Loss: 0.1426, lambda: 0.1000 ---- 12:42:56\n",
      "Epoch: 47/50, Step: 53300, D Loss: 0.1981, C Loss: 0.1612, lambda: 0.1000 ---- 12:43:03\n",
      "Epoch: 47/50, Step: 53400, D Loss: 0.0300, C Loss: 0.5990, lambda: 0.1000 ---- 12:43:10\n",
      "Epoch: 47/50, Step: 53500, D Loss: 0.6768, C Loss: 0.1472, lambda: 0.1000 ---- 12:43:18\n",
      "***** Eval Result: 0.9085, Step: 53500\n",
      "***** Test Result: 0.4166, Step: 53500\n",
      "Epoch: 47/50, Step: 53600, D Loss: 0.0313, C Loss: 0.2433, lambda: 0.1000 ---- 12:43:31\n",
      "Epoch: 47/50, Step: 53700, D Loss: 1.2350, C Loss: 0.3353, lambda: 0.1000 ---- 12:43:38\n",
      "Epoch: 48/50, Step: 53800, D Loss: 0.9129, C Loss: 0.1509, lambda: 0.1000 ---- 12:43:45\n",
      "Epoch: 48/50, Step: 53900, D Loss: 1.4594, C Loss: 0.1890, lambda: 0.1000 ---- 12:43:52\n",
      "Epoch: 48/50, Step: 54000, D Loss: 0.8696, C Loss: 0.2971, lambda: 0.1000 ---- 12:43:59\n",
      "***** Eval Result: 0.8968, Step: 54000\n",
      "***** Test Result: 0.3609, Step: 54000\n",
      "Epoch: 48/50, Step: 54100, D Loss: 0.7652, C Loss: 0.3283, lambda: 0.1000 ---- 12:44:13\n",
      "Epoch: 48/50, Step: 54200, D Loss: 1.3594, C Loss: 0.3083, lambda: 0.1000 ---- 12:44:20\n",
      "Epoch: 48/50, Step: 54300, D Loss: 0.9044, C Loss: 0.4261, lambda: 0.1000 ---- 12:44:27\n",
      "Epoch: 48/50, Step: 54400, D Loss: 1.2315, C Loss: 0.3419, lambda: 0.1000 ---- 12:44:34\n",
      "Epoch: 48/50, Step: 54500, D Loss: 0.4350, C Loss: 0.1053, lambda: 0.1000 ---- 12:44:41\n",
      "***** Eval Result: 0.9000, Step: 54500\n",
      "***** Test Result: 0.4569, Step: 54500\n",
      "Epoch: 48/50, Step: 54600, D Loss: 0.1133, C Loss: 0.2770, lambda: 0.1000 ---- 12:44:54\n",
      "Epoch: 48/50, Step: 54700, D Loss: 0.4520, C Loss: 0.1515, lambda: 0.1000 ---- 12:45:01\n",
      "Epoch: 48/50, Step: 54800, D Loss: 0.2582, C Loss: 0.3175, lambda: 0.1000 ---- 12:45:09\n",
      "Epoch: 48/50, Step: 54900, D Loss: 0.2350, C Loss: 0.1311, lambda: 0.1000 ---- 12:45:16\n",
      "Epoch: 49/50, Step: 55000, D Loss: 0.1792, C Loss: 0.3035, lambda: 0.1000 ---- 12:45:23\n",
      "***** Eval Result: 0.9178, Step: 55000\n",
      "***** Test Result: 0.4677, Step: 55000\n",
      "Epoch: 49/50, Step: 55100, D Loss: 0.0842, C Loss: 0.2102, lambda: 0.1000 ---- 12:45:36\n",
      "Epoch: 49/50, Step: 55200, D Loss: 0.7584, C Loss: 0.2167, lambda: 0.1000 ---- 12:45:43\n",
      "Epoch: 49/50, Step: 55300, D Loss: 1.1183, C Loss: 0.1244, lambda: 0.1000 ---- 12:45:50\n",
      "Epoch: 49/50, Step: 55400, D Loss: 0.7957, C Loss: 0.1873, lambda: 0.1000 ---- 12:45:57\n",
      "Epoch: 49/50, Step: 55500, D Loss: 0.7218, C Loss: 0.1305, lambda: 0.1000 ---- 12:46:05\n",
      "***** Eval Result: 0.9076, Step: 55500\n",
      "***** Test Result: 0.4706, Step: 55500\n",
      "Epoch: 49/50, Step: 55600, D Loss: 0.6243, C Loss: 0.3036, lambda: 0.1000 ---- 12:46:18\n",
      "Epoch: 49/50, Step: 55700, D Loss: 0.3718, C Loss: 0.3242, lambda: 0.1000 ---- 12:46:25\n",
      "Epoch: 49/50, Step: 55800, D Loss: 0.9105, C Loss: 0.2816, lambda: 0.1000 ---- 12:46:32\n",
      "Epoch: 49/50, Step: 55900, D Loss: 2.1569, C Loss: 0.2668, lambda: 0.1000 ---- 12:46:39\n"
     ]
    },
    {
     "name": "stdout",
     "output_type": "stream",
     "text": [
      "Epoch: 49/50, Step: 56000, D Loss: 0.3967, C Loss: 0.1115, lambda: 0.1000 ---- 12:46:46\n",
      "***** Eval Result: 0.9082, Step: 56000\n",
      "***** Test Result: 0.4719, Step: 56000\n",
      "Epoch: 50/50, Step: 56100, D Loss: 0.0295, C Loss: 0.1131, lambda: 0.1000 ---- 12:47:00\n",
      "Epoch: 50/50, Step: 56200, D Loss: 0.1345, C Loss: 0.3489, lambda: 0.1000 ---- 12:47:07\n",
      "Epoch: 50/50, Step: 56300, D Loss: 0.3662, C Loss: 0.1086, lambda: 0.1000 ---- 12:47:14\n",
      "Epoch: 50/50, Step: 56400, D Loss: 0.3044, C Loss: 0.1796, lambda: 0.1000 ---- 12:47:21\n",
      "Epoch: 50/50, Step: 56500, D Loss: 0.5821, C Loss: 0.1480, lambda: 0.1000 ---- 12:47:28\n",
      "***** Eval Result: 0.9040, Step: 56500\n",
      "***** Test Result: 0.5138, Step: 56500\n",
      "Epoch: 50/50, Step: 56600, D Loss: 0.7847, C Loss: 0.2441, lambda: 0.1000 ---- 12:47:41\n",
      "Epoch: 50/50, Step: 56700, D Loss: 0.5194, C Loss: 0.0776, lambda: 0.1000 ---- 12:47:48\n",
      "Epoch: 50/50, Step: 56800, D Loss: 0.1096, C Loss: 0.2277, lambda: 0.1000 ---- 12:47:56\n",
      "Epoch: 50/50, Step: 56900, D Loss: 0.1422, C Loss: 0.1522, lambda: 0.1000 ---- 12:48:03\n",
      "Epoch: 50/50, Step: 57000, D Loss: 0.7823, C Loss: 0.1374, lambda: 0.1000 ---- 12:48:10\n",
      "***** Eval Result: 0.9113, Step: 57000\n",
      "***** Test Result: 0.4526, Step: 57000\n",
      "Epoch: 50/50, Step: 57100, D Loss: 1.6526, C Loss: 0.1000, lambda: 0.1000 ---- 12:48:23\n"
     ]
    }
   ],
   "source": [
    "for epoch in range(1, max_epoch+1):\n",
    "    for idx, (src_images, labels) in enumerate(svhn_loader):\n",
    "        tgt_images, _ = sample_mnist(step, n_batches)\n",
    "        # Training Discriminator\n",
    "        src, labels, tgt = src_images.to(DEVICE), labels.to(DEVICE), tgt_images.to(DEVICE)\n",
    "        \n",
    "        x = torch.cat([src, tgt], dim=0)\n",
    "        h = F(x)\n",
    "        y = D(h.detach())\n",
    "        \n",
    "        Ld = bce(y, D_labels)\n",
    "        D.zero_grad()\n",
    "        Ld.backward()\n",
    "        D_opt.step()\n",
    "        \n",
    "        \n",
    "        c = C(h[:batch_size])\n",
    "        y = D(h)\n",
    "        Lc = xe(c, labels)\n",
    "        Ld = bce(y, D_labels)\n",
    "        lamda = 0.1*get_lambda(epoch, max_epoch)\n",
    "        Ltot = Lc -lamda*Ld\n",
    "        \n",
    "        \n",
    "        F.zero_grad()\n",
    "        C.zero_grad()\n",
    "        D.zero_grad()\n",
    "        \n",
    "        Ltot.backward()\n",
    "        \n",
    "        C_opt.step()\n",
    "        F_opt.step()\n",
    "        \n",
    "        if step % 100 == 0:\n",
    "            dt = datetime.datetime.now().strftime('%H:%M:%S')\n",
    "            print('Epoch: {}/{}, Step: {}, D Loss: {:.4f}, C Loss: {:.4f}, lambda: {:.4f} ---- {}'.format(epoch, max_epoch, step, Ld.item(), Lc.item(), lamda, dt))\n",
    "            ll_c.append(Lc)\n",
    "            ll_d.append(Ld)\n",
    "        \n",
    "        if step % 500 == 0:\n",
    "            F.eval()\n",
    "            C.eval()\n",
    "            with torch.no_grad():\n",
    "                corrects = torch.zeros(1).to(DEVICE)\n",
    "                for idx, (src, labels) in enumerate(eval_loader):\n",
    "                    src, labels = src.to(DEVICE), labels.to(DEVICE)\n",
    "                    c = C(F(src))\n",
    "                    _, preds = torch.max(c, 1)\n",
    "                    corrects += (preds == labels).sum()\n",
    "                acc = corrects.item() / len(eval_loader.dataset)\n",
    "                print('***** Eval Result: {:.4f}, Step: {}'.format(acc, step))\n",
    "                \n",
    "                corrects = torch.zeros(1).to(DEVICE)\n",
    "                for idx, (tgt, labels) in enumerate(test_loader):\n",
    "                    tgt, labels = tgt.to(DEVICE), labels.to(DEVICE)\n",
    "                    c = C(F(tgt))\n",
    "                    _, preds = torch.max(c, 1)\n",
    "                    corrects += (preds == labels).sum()\n",
    "                acc = corrects.item() / len(test_loader.dataset)\n",
    "                print('***** Test Result: {:.4f}, Step: {}'.format(acc, step))\n",
    "                acc_lst.append(acc)\n",
    "                \n",
    "            F.train()\n",
    "            C.train()\n",
    "        step += 1"
   ]
  },
  {
   "cell_type": "markdown",
   "metadata": {
    "colab_type": "text",
    "id": "a8rIVAtx36C5"
   },
   "source": [
    "## Visualize Sample"
   ]
  },
  {
   "cell_type": "code",
   "execution_count": 67,
   "metadata": {
    "ExecuteTime": {
     "end_time": "2022-05-25T06:19:00.216983Z",
     "start_time": "2022-05-25T06:19:00.124303Z"
    }
   },
   "outputs": [
    {
     "name": "stderr",
     "output_type": "stream",
     "text": [
      "C:\\Users\\SHRM-DL-ChanHee\\Anaconda3\\envs\\TorchCH\\lib\\site-packages\\torch\\serialization.py:256: UserWarning: Couldn't retrieve source code for container of type FeatureExtractor. It won't be checked for correctness upon loading.\n",
      "  \"type \" + obj.__name__ + \". It won't be checked \"\n",
      "C:\\Users\\SHRM-DL-ChanHee\\Anaconda3\\envs\\TorchCH\\lib\\site-packages\\torch\\serialization.py:256: UserWarning: Couldn't retrieve source code for container of type Classifier. It won't be checked for correctness upon loading.\n",
      "  \"type \" + obj.__name__ + \". It won't be checked \"\n",
      "C:\\Users\\SHRM-DL-ChanHee\\Anaconda3\\envs\\TorchCH\\lib\\site-packages\\torch\\serialization.py:256: UserWarning: Couldn't retrieve source code for container of type Discriminator. It won't be checked for correctness upon loading.\n",
      "  \"type \" + obj.__name__ + \". It won't be checked \"\n"
     ]
    }
   ],
   "source": [
    "# PATHF = \n",
    "# model = Net()\n",
    "# model.load_state_dict(torch.load(PATH, map_location=device))\n",
    "# 저장하기\n",
    "torch.save({'model_state_dict': F.state_dict(),\n",
    "            'optimizer_state_dict': F_opt.state_dict()},f'DANN_F_MNIST_model_{max_epoch}.pth')\n",
    "torch.save(F,f'DANN_F_MNIST_model_{max_epoch}.pth')\n",
    "\n",
    "# PATHC = f'DANN_C_MNIST_model_{max_epoch}.pth'\n",
    "# torch.save({'model_state_dict': C.state_dict(),\n",
    "#             'optimizer_state_dict': C_opt.state_dict()}, f'DANN_C_MNIST_model_{max_epoch}.pth')\n",
    "torch.save(C,f'DANN_C_MNIST_model_{max_epoch}.pth')\n",
    "# PATHD = f'DANN_D_MNIST_model_{max_epoch}.pth'\n",
    "# torch.save({'model_state_dict': D.state_dict(),\n",
    "#             'optimizer_state_dict': D_opt.state_dict()}, PATHD)\n",
    "torch.save(D,f'DANN_D_MNIST_model_{max_epoch}.pth')\n"
   ]
  },
  {
   "cell_type": "code",
   "execution_count": 69,
   "metadata": {
    "ExecuteTime": {
     "end_time": "2022-05-25T06:21:23.049080Z",
     "start_time": "2022-05-25T06:21:23.013153Z"
    }
   },
   "outputs": [
    {
     "data": {
      "text/plain": [
       "FeatureExtractor(\n",
       "  (conv): Sequential(\n",
       "    (0): Conv2d(1, 64, kernel_size=(3, 3), stride=(1, 1), padding=(1, 1))\n",
       "    (1): BatchNorm2d(64, eps=1e-05, momentum=0.1, affine=True, track_running_stats=True)\n",
       "    (2): ReLU(inplace=True)\n",
       "    (3): Conv2d(64, 128, kernel_size=(3, 3), stride=(1, 1), padding=(1, 1))\n",
       "    (4): BatchNorm2d(128, eps=1e-05, momentum=0.1, affine=True, track_running_stats=True)\n",
       "    (5): ReLU(inplace=True)\n",
       "    (6): Conv2d(128, 256, kernel_size=(3, 3), stride=(1, 1), padding=(1, 1))\n",
       "    (7): BatchNorm2d(256, eps=1e-05, momentum=0.1, affine=True, track_running_stats=True)\n",
       "    (8): ReLU(inplace=True)\n",
       "    (9): Conv2d(256, 256, kernel_size=(3, 3), stride=(1, 1), padding=(1, 1))\n",
       "    (10): BatchNorm2d(256, eps=1e-05, momentum=0.1, affine=True, track_running_stats=True)\n",
       "    (11): ReLU(inplace=True)\n",
       "    (12): Conv2d(256, 512, kernel_size=(3, 3), stride=(1, 1), padding=(1, 1))\n",
       "    (13): BatchNorm2d(512, eps=1e-05, momentum=0.1, affine=True, track_running_stats=True)\n",
       "    (14): ReLU(inplace=True)\n",
       "    (15): AdaptiveAvgPool2d(output_size=(1, 1))\n",
       "  )\n",
       ")"
      ]
     },
     "execution_count": 69,
     "metadata": {},
     "output_type": "execute_result"
    }
   ],
   "source": [
    "F1=torch.load('DANN_F_MNIST_model_50.pth', map_location=device)\n",
    "# F1.eval()\n",
    "C1=torch.load('DANN_C_MNIST_model_50.pth', map_location=device)\n",
    "D1=torch.load('DANN_D_MNIST_model_50.pth', map_location=device)"
   ]
  },
  {
   "cell_type": "code",
   "execution_count": 25,
   "metadata": {
    "ExecuteTime": {
     "end_time": "2022-05-25T03:48:30.674337Z",
     "start_time": "2022-05-25T03:48:30.664363Z"
    }
   },
   "outputs": [],
   "source": [
    "import matplotlib.pyplot as plt"
   ]
  },
  {
   "cell_type": "code",
   "execution_count": 52,
   "metadata": {
    "ExecuteTime": {
     "end_time": "2022-05-25T05:59:35.377913Z",
     "start_time": "2022-05-25T05:59:35.199822Z"
    },
    "scrolled": true
   },
   "outputs": [
    {
     "name": "stderr",
     "output_type": "stream",
     "text": [
      "C:\\Users\\SHRM-DL-ChanHee\\Anaconda3\\envs\\TorchCH\\lib\\site-packages\\ipykernel_launcher.py:6: UserWarning: To copy construct from a tensor, it is recommended to use sourceTensor.clone().detach() or sourceTensor.clone().detach().requires_grad_(True), rather than torch.tensor(sourceTensor).\n",
      "  \n",
      "C:\\Users\\SHRM-DL-ChanHee\\Anaconda3\\envs\\TorchCH\\lib\\site-packages\\ipykernel_launcher.py:7: UserWarning: To copy construct from a tensor, it is recommended to use sourceTensor.clone().detach() or sourceTensor.clone().detach().requires_grad_(True), rather than torch.tensor(sourceTensor).\n",
      "  import sys\n"
     ]
    },
    {
     "data": {
      "text/plain": [
       "Text(0.5, 1.0, 'll_d')"
      ]
     },
     "execution_count": 52,
     "metadata": {},
     "output_type": "execute_result"
    },
    {
     "data": {
      "image/png": "[encoded data removed]",
      "text/plain": [
       "<Figure size 432x288 with 2 Axes>"
      ]
     },
     "metadata": {
      "needs_background": "light"
     },
     "output_type": "display_data"
    }
   ],
   "source": [
    "# # XE loss\n",
    "# ll_c_cpu = ll_c.tolist()\n",
    "\n",
    "device1 = torch.device(\"cpu\")\n",
    "\n",
    "ll_c = torch.tensor(ll_c, dtype = torch.float32, device=device1)\n",
    "ll_d = torch.tensor(ll_d, dtype = torch.float32, device=device1)\n",
    "# print(llc.dtype)\n",
    "fig1, ax = plt.subplots(nrows =2, sharex = False)\n",
    "ax[0].plot(range(len(ll_c)), ll_c)\n",
    "ax[0].set_title('ll_c')\n",
    "ax[1].plot(range(len(ll_d)), ll_d)\n",
    "ax[1].set_title('ll_d')\n",
    "# Discriminator loss"
   ]
  },
  {
   "cell_type": "code",
   "execution_count": 53,
   "metadata": {
    "ExecuteTime": {
     "end_time": "2022-05-25T05:59:54.156140Z",
     "start_time": "2022-05-25T05:59:54.055410Z"
    }
   },
   "outputs": [
    {
     "data": {
      "text/plain": [
       "0.6545"
      ]
     },
     "execution_count": 53,
     "metadata": {},
     "output_type": "execute_result"
    },
    {
     "data": {
      "image/png": "[encoded data removed]",
      "text/plain": [
       "<Figure size 432x288 with 1 Axes>"
      ]
     },
     "metadata": {
      "needs_background": "light"
     },
     "output_type": "display_data"
    }
   ],
   "source": [
    "# Accuracy\n",
    "plt.plot(range(len(acc_lst)), acc_lst)\n",
    "\n",
    "max(acc_lst)"
   ]
  },
  {
   "cell_type": "code",
   "execution_count": null,
   "metadata": {
    "colab": {},
    "colab_type": "code",
    "id": "ZjunDavN36C_"
   },
   "outputs": [],
   "source": []
  }
 ],
 "metadata": {
  "accelerator": "GPU",
  "colab": {
   "collapsed_sections": [],
   "name": "DANN.ipynb",
   "provenance": [],
   "version": "0.3.2"
  },
  "hide_input": false,
  "kernelspec": {
   "display_name": "Python 3",
   "language": "python",
   "name": "python3"
  },
  "language_info": {
   "codemirror_mode": {
    "name": "ipython",
    "version": 3
   },
   "file_extension": ".py",
   "mimetype": "text/x-python",
   "name": "python",
   "nbconvert_exporter": "python",
   "pygments_lexer": "ipython3",
   "version": "3.7.5"
  },
  "toc": {
   "base_numbering": 1,
   "nav_menu": {},
   "number_sections": true,
   "sideBar": true,
   "skip_h1_title": false,
   "title_cell": "Table of Contents",
   "title_sidebar": "Contents",
   "toc_cell": false,
   "toc_position": {},
   "toc_section_display": true,
   "toc_window_display": false
  },
  "varInspector": {
   "cols": {
    "lenName": 16,
    "lenType": 16,
    "lenVar": 40
   },
   "kernels_config": {
    "python": {
     "delete_cmd_postfix": "",
     "delete_cmd_prefix": "del ",
     "library": "var_list.py",
     "varRefreshCmd": "print(var_dic_list())"
    },
    "r": {
     "delete_cmd_postfix": ") ",
     "delete_cmd_prefix": "rm(",
     "library": "var_list.r",
     "varRefreshCmd": "cat(var_dic_list()) "
    }
   },
   "oldHeight": 122.85,
   "position": {
    "height": "40px",
    "left": "1249.2px",
    "right": "20px",
    "top": "120px",
    "width": "250px"
   },
   "types_to_exclude": [
    "module",
    "function",
    "builtin_function_or_method",
    "instance",
    "_Feature"
   ],
   "varInspector_section_display": "none",
   "window_display": true
  }
 },
 "nbformat": 4,
 "nbformat_minor": 1
}
